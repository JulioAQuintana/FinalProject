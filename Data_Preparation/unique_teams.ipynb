{
 "cells": [
  {
   "cell_type": "code",
   "execution_count": 1,
   "id": "e70daac2",
   "metadata": {},
   "outputs": [],
   "source": [
    "# Import modules\n",
    "import pandas as pd\n",
    "import numpy as np\n",
    "from functools import reduce"
   ]
  },
  {
   "cell_type": "code",
   "execution_count": 2,
   "id": "bbf5662e",
   "metadata": {},
   "outputs": [],
   "source": [
    "# Import datasets\n",
    "defensive = pd.read_csv(\"../Resources/Career_Stats_Defensive.csv\")\n",
    "\n",
    "fg_kickers = pd.read_csv(\"../Resources/Career_Stats_Field_Goal_Kickers.csv\")\n",
    "\n",
    "fumbles = pd.read_csv(\"../Resources/Career_Stats_Fumbles.csv\")\n",
    "\n",
    "kick_r = pd.read_csv(\"../Resources/Career_Stats_Kick_Return.csv\")\n",
    "\n",
    "kickoff = pd.read_csv(\"../Resources/Career_Stats_Kickoff.csv\")\n",
    "\n",
    "offensive = pd.read_csv(\"../Resources/Career_Stats_Offensive_Line.csv\")\n",
    "\n",
    "passing = pd.read_csv(\"../Resources/Career_Stats_Passing.csv\")\n",
    "\n",
    "punt_r = pd.read_csv(\"../Resources/Career_Stats_Punt_Return.csv\")\n",
    "\n",
    "punting = pd.read_csv(\"../Resources/Career_Stats_Punting.csv\")\n",
    "\n",
    "receiving = pd.read_csv(\"../Resources/Career_Stats_Receiving.csv\")\n",
    "\n",
    "rushing = pd.read_csv(\"../Resources/Career_Stats_Rushing.csv\")"
   ]
  },
  {
   "cell_type": "code",
   "execution_count": 3,
   "id": "7ec4ef23",
   "metadata": {},
   "outputs": [],
   "source": [
    "# Find unique team values per dataset\n",
    "def_t = defensive[\"Team\"].unique()\n",
    "\n",
    "fg_kickers_t = fg_kickers[\"Team\"].unique()\n",
    "\n",
    "fumbles_t = fumbles[\"Team\"].unique()\n",
    "\n",
    "kick_r_t = kick_r[\"Team\"].unique()\n",
    "\n",
    "kickoff_t = kickoff[\"Team\"].unique()\n",
    "\n",
    "offensive_t = offensive[\"Team\"].unique()\n",
    "\n",
    "passing_t = passing[\"Team\"].unique()\n",
    "\n",
    "punt_r_t = punt_r[\"Team\"].unique()\n",
    "\n",
    "punting_t = punting[\"Team\"].unique()\n",
    "\n",
    "receiving_t = receiving[\"Team\"].unique()\n",
    "\n",
    "rushing_t = rushing[\"Team\"].unique()"
   ]
  },
  {
   "cell_type": "code",
   "execution_count": 4,
   "id": "fd2a6e81",
   "metadata": {},
   "outputs": [],
   "source": [
    "# Concatenate unique team values per dataset\n",
    "teams = np.concatenate([def_t, fg_kickers_t, fumbles_t, kick_r_t, kickoff_t, offensive_t, passing_t, punt_r_t, punting_t,\n",
    "               receiving_t, rushing_t])"
   ]
  },
  {
   "cell_type": "code",
   "execution_count": 5,
   "id": "1a8bb0ad",
   "metadata": {},
   "outputs": [],
   "source": [
    "# Get final unique team values\n",
    "unique_teams = pd.Series(teams).unique()"
   ]
  },
  {
   "cell_type": "code",
   "execution_count": 6,
   "id": "ec61cb7e",
   "metadata": {},
   "outputs": [],
   "source": [
    "# Write to csv\n",
    "pd.Series(unique_teams).to_csv(\"unique_teams.csv\", header = False, index = False)"
   ]
  }
 ],
 "metadata": {
  "kernelspec": {
   "display_name": "Python 3",
   "language": "python",
   "name": "python3"
  },
  "language_info": {
   "codemirror_mode": {
    "name": "ipython",
    "version": 3
   },
   "file_extension": ".py",
   "mimetype": "text/x-python",
   "name": "python",
   "nbconvert_exporter": "python",
   "pygments_lexer": "ipython3",
   "version": "3.7.10"
  }
 },
 "nbformat": 4,
 "nbformat_minor": 5
}
