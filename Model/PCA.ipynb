{
 "cells": [
  {
   "cell_type": "code",
   "execution_count": 1,
   "id": "7ac5330e",
   "metadata": {},
   "outputs": [],
   "source": [
    "#import required libraries\n",
    "import pandas as pd\n",
    "import numpy as np\n",
    "import matplotlib.pyplot as plt\n",
    "from sklearn.feature_selection import chi2, f_classif, mutual_info_classif\n",
    "from itertools import combinations\n",
    "from scipy import stats as st\n",
    "import numpy as np\n",
    "from numpy import argmax"
   ]
  },
  {
   "cell_type": "code",
   "execution_count": 2,
   "id": "ab7925b0",
   "metadata": {},
   "outputs": [],
   "source": [
    "# Machine learning model libraries \n",
    "from sklearn.model_selection import train_test_split\n",
    "from sklearn.ensemble import RandomForestClassifier\n",
    "from sklearn.metrics import confusion_matrix, accuracy_score, classification_report, f1_score\n",
    "from sklearn.preprocessing import StandardScaler\n",
    "from sklearn.decomposition import PCA\n",
    "from sklearn.linear_model import LogisticRegression\n",
    "from imblearn.over_sampling import RandomOverSampler, SMOTE, BorderlineSMOTE\n",
    "from imblearn.under_sampling import RandomUnderSampler\n",
    "from imblearn.combine import SMOTEENN\n",
    "from imblearn.ensemble import BalancedRandomForestClassifier"
   ]
  },
  {
   "cell_type": "code",
   "execution_count": 3,
   "id": "54689f4d",
   "metadata": {},
   "outputs": [
    {
     "data": {
      "text/html": [
       "<div>\n",
       "<style scoped>\n",
       "    .dataframe tbody tr th:only-of-type {\n",
       "        vertical-align: middle;\n",
       "    }\n",
       "\n",
       "    .dataframe tbody tr th {\n",
       "        vertical-align: top;\n",
       "    }\n",
       "\n",
       "    .dataframe thead th {\n",
       "        text-align: right;\n",
       "    }\n",
       "</style>\n",
       "<table border=\"1\" class=\"dataframe\">\n",
       "  <thead>\n",
       "    <tr style=\"text-align: right;\">\n",
       "      <th></th>\n",
       "      <th>Unnamed: 0</th>\n",
       "      <th>total_tackles_def</th>\n",
       "      <th>sacks_def</th>\n",
       "      <th>safties_def</th>\n",
       "      <th>passes_defended_def</th>\n",
       "      <th>ints_def</th>\n",
       "      <th>fumbles_lost_fum</th>\n",
       "      <th>td_passes_pass</th>\n",
       "      <th>ints_pass</th>\n",
       "      <th>sacks_pass</th>\n",
       "      <th>...</th>\n",
       "      <th>year</th>\n",
       "      <th>team</th>\n",
       "      <th>fg_success_rate</th>\n",
       "      <th>extra_success_rate</th>\n",
       "      <th>pass_success_rate</th>\n",
       "      <th>avg_yards_pass</th>\n",
       "      <th>avg_yards_rush</th>\n",
       "      <th>kicks_blocked</th>\n",
       "      <th>passes_per_rushing_plays</th>\n",
       "      <th>Champion</th>\n",
       "    </tr>\n",
       "    <tr>\n",
       "      <th>team_year</th>\n",
       "      <th></th>\n",
       "      <th></th>\n",
       "      <th></th>\n",
       "      <th></th>\n",
       "      <th></th>\n",
       "      <th></th>\n",
       "      <th></th>\n",
       "      <th></th>\n",
       "      <th></th>\n",
       "      <th></th>\n",
       "      <th></th>\n",
       "      <th></th>\n",
       "      <th></th>\n",
       "      <th></th>\n",
       "      <th></th>\n",
       "      <th></th>\n",
       "      <th></th>\n",
       "      <th></th>\n",
       "      <th></th>\n",
       "      <th></th>\n",
       "      <th></th>\n",
       "    </tr>\n",
       "  </thead>\n",
       "  <tbody>\n",
       "    <tr>\n",
       "      <th>arizona_cardinals_2001</th>\n",
       "      <td>0</td>\n",
       "      <td>670</td>\n",
       "      <td>5</td>\n",
       "      <td>0</td>\n",
       "      <td>29</td>\n",
       "      <td>13</td>\n",
       "      <td>7.0</td>\n",
       "      <td>0.0</td>\n",
       "      <td>0.0</td>\n",
       "      <td>0.0</td>\n",
       "      <td>...</td>\n",
       "      <td>2001</td>\n",
       "      <td>arizona_cardinals</td>\n",
       "      <td>0.833333</td>\n",
       "      <td>1.0</td>\n",
       "      <td>0.000000</td>\n",
       "      <td>10.715232</td>\n",
       "      <td>3.546939</td>\n",
       "      <td>0.0</td>\n",
       "      <td>0.004082</td>\n",
       "      <td>0.0</td>\n",
       "    </tr>\n",
       "    <tr>\n",
       "      <th>arizona_cardinals_2002</th>\n",
       "      <td>1</td>\n",
       "      <td>547</td>\n",
       "      <td>12</td>\n",
       "      <td>0</td>\n",
       "      <td>24</td>\n",
       "      <td>7</td>\n",
       "      <td>1.0</td>\n",
       "      <td>0.0</td>\n",
       "      <td>2.0</td>\n",
       "      <td>5.0</td>\n",
       "      <td>...</td>\n",
       "      <td>2002</td>\n",
       "      <td>arizona_cardinals</td>\n",
       "      <td>0.000000</td>\n",
       "      <td>0.0</td>\n",
       "      <td>0.388889</td>\n",
       "      <td>11.470588</td>\n",
       "      <td>4.256410</td>\n",
       "      <td>0.0</td>\n",
       "      <td>0.461538</td>\n",
       "      <td>0.0</td>\n",
       "    </tr>\n",
       "    <tr>\n",
       "      <th>arizona_cardinals_2003</th>\n",
       "      <td>2</td>\n",
       "      <td>548</td>\n",
       "      <td>15</td>\n",
       "      <td>0</td>\n",
       "      <td>35</td>\n",
       "      <td>8</td>\n",
       "      <td>7.0</td>\n",
       "      <td>5.0</td>\n",
       "      <td>7.0</td>\n",
       "      <td>25.0</td>\n",
       "      <td>...</td>\n",
       "      <td>2003</td>\n",
       "      <td>arizona_cardinals</td>\n",
       "      <td>0.750000</td>\n",
       "      <td>1.0</td>\n",
       "      <td>0.568862</td>\n",
       "      <td>12.957831</td>\n",
       "      <td>4.943396</td>\n",
       "      <td>0.0</td>\n",
       "      <td>3.150943</td>\n",
       "      <td>0.0</td>\n",
       "    </tr>\n",
       "    <tr>\n",
       "      <th>arizona_cardinals_2004</th>\n",
       "      <td>3</td>\n",
       "      <td>511</td>\n",
       "      <td>16</td>\n",
       "      <td>0</td>\n",
       "      <td>43</td>\n",
       "      <td>7</td>\n",
       "      <td>7.0</td>\n",
       "      <td>13.0</td>\n",
       "      <td>18.0</td>\n",
       "      <td>39.0</td>\n",
       "      <td>...</td>\n",
       "      <td>2004</td>\n",
       "      <td>arizona_cardinals</td>\n",
       "      <td>0.758621</td>\n",
       "      <td>1.0</td>\n",
       "      <td>0.560150</td>\n",
       "      <td>11.369231</td>\n",
       "      <td>3.585034</td>\n",
       "      <td>0.0</td>\n",
       "      <td>3.619048</td>\n",
       "      <td>0.0</td>\n",
       "    </tr>\n",
       "    <tr>\n",
       "      <th>arizona_cardinals_2005</th>\n",
       "      <td>4</td>\n",
       "      <td>483</td>\n",
       "      <td>19</td>\n",
       "      <td>0</td>\n",
       "      <td>27</td>\n",
       "      <td>9</td>\n",
       "      <td>11.0</td>\n",
       "      <td>21.0</td>\n",
       "      <td>21.0</td>\n",
       "      <td>45.0</td>\n",
       "      <td>...</td>\n",
       "      <td>2005</td>\n",
       "      <td>arizona_cardinals</td>\n",
       "      <td>0.955556</td>\n",
       "      <td>1.0</td>\n",
       "      <td>0.625373</td>\n",
       "      <td>12.421053</td>\n",
       "      <td>3.541436</td>\n",
       "      <td>0.0</td>\n",
       "      <td>3.701657</td>\n",
       "      <td>0.0</td>\n",
       "    </tr>\n",
       "  </tbody>\n",
       "</table>\n",
       "<p>5 rows × 22 columns</p>\n",
       "</div>"
      ],
      "text/plain": [
       "                        Unnamed: 0  total_tackles_def  sacks_def  safties_def  \\\n",
       "team_year                                                                       \n",
       "arizona_cardinals_2001           0                670          5            0   \n",
       "arizona_cardinals_2002           1                547         12            0   \n",
       "arizona_cardinals_2003           2                548         15            0   \n",
       "arizona_cardinals_2004           3                511         16            0   \n",
       "arizona_cardinals_2005           4                483         19            0   \n",
       "\n",
       "                        passes_defended_def  ints_def  fumbles_lost_fum  \\\n",
       "team_year                                                                 \n",
       "arizona_cardinals_2001                   29        13               7.0   \n",
       "arizona_cardinals_2002                   24         7               1.0   \n",
       "arizona_cardinals_2003                   35         8               7.0   \n",
       "arizona_cardinals_2004                   43         7               7.0   \n",
       "arizona_cardinals_2005                   27         9              11.0   \n",
       "\n",
       "                        td_passes_pass  ints_pass  sacks_pass  ...  year  \\\n",
       "team_year                                                      ...         \n",
       "arizona_cardinals_2001             0.0        0.0         0.0  ...  2001   \n",
       "arizona_cardinals_2002             0.0        2.0         5.0  ...  2002   \n",
       "arizona_cardinals_2003             5.0        7.0        25.0  ...  2003   \n",
       "arizona_cardinals_2004            13.0       18.0        39.0  ...  2004   \n",
       "arizona_cardinals_2005            21.0       21.0        45.0  ...  2005   \n",
       "\n",
       "                                     team  fg_success_rate extra_success_rate  \\\n",
       "team_year                                                                       \n",
       "arizona_cardinals_2001  arizona_cardinals         0.833333                1.0   \n",
       "arizona_cardinals_2002  arizona_cardinals         0.000000                0.0   \n",
       "arizona_cardinals_2003  arizona_cardinals         0.750000                1.0   \n",
       "arizona_cardinals_2004  arizona_cardinals         0.758621                1.0   \n",
       "arizona_cardinals_2005  arizona_cardinals         0.955556                1.0   \n",
       "\n",
       "                        pass_success_rate  avg_yards_pass  avg_yards_rush  \\\n",
       "team_year                                                                   \n",
       "arizona_cardinals_2001           0.000000       10.715232        3.546939   \n",
       "arizona_cardinals_2002           0.388889       11.470588        4.256410   \n",
       "arizona_cardinals_2003           0.568862       12.957831        4.943396   \n",
       "arizona_cardinals_2004           0.560150       11.369231        3.585034   \n",
       "arizona_cardinals_2005           0.625373       12.421053        3.541436   \n",
       "\n",
       "                        kicks_blocked  passes_per_rushing_plays  Champion  \n",
       "team_year                                                                  \n",
       "arizona_cardinals_2001            0.0                  0.004082       0.0  \n",
       "arizona_cardinals_2002            0.0                  0.461538       0.0  \n",
       "arizona_cardinals_2003            0.0                  3.150943       0.0  \n",
       "arizona_cardinals_2004            0.0                  3.619048       0.0  \n",
       "arizona_cardinals_2005            0.0                  3.701657       0.0  \n",
       "\n",
       "[5 rows x 22 columns]"
      ]
     },
     "execution_count": 3,
     "metadata": {},
     "output_type": "execute_result"
    }
   ],
   "source": [
    "# Import Dataset\n",
    "df = pd.read_csv(\"../Resources/sb_champion_stats.csv\", index_col = 1)\n",
    "df.head()"
   ]
  },
  {
   "cell_type": "code",
   "execution_count": 4,
   "id": "be8d88cd",
   "metadata": {},
   "outputs": [
    {
     "name": "stdout",
     "output_type": "stream",
     "text": [
      "Unnamed: 0\n",
      "total_tackles_def\n",
      "sacks_def\n",
      "safties_def\n",
      "passes_defended_def\n",
      "ints_def\n",
      "fumbles_lost_fum\n",
      "td_passes_pass\n",
      "ints_pass\n",
      "sacks_pass\n",
      "receiving_tds_rec\n",
      "rushing_tds_rush\n",
      "year\n",
      "team\n",
      "fg_success_rate\n",
      "extra_success_rate\n",
      "pass_success_rate\n",
      "avg_yards_pass\n",
      "avg_yards_rush\n",
      "kicks_blocked\n",
      "passes_per_rushing_plays\n",
      "Champion\n"
     ]
    }
   ],
   "source": [
    "# Print all column names:\n",
    "for col in df.columns:\n",
    "    print(col)"
   ]
  },
  {
   "cell_type": "code",
   "execution_count": 6,
   "id": "36b7278a",
   "metadata": {},
   "outputs": [
    {
     "data": {
      "text/plain": [
       "(511, 10)"
      ]
     },
     "execution_count": 6,
     "metadata": {},
     "output_type": "execute_result"
    }
   ],
   "source": [
    "# Keep only columns related to offensive statistics\n",
    "X_off = df[[\"fumbles_lost_fum\", \"td_passes_pass\", \"ints_pass\", \"sacks_pass\", \"receiving_tds_rec\",\n",
    "           \"rushing_tds_rush\", \"pass_success_rate\", \"avg_yards_pass\", \"avg_yards_rush\", \"passes_per_rushing_plays\"]]\n",
    "X_off.shape"
   ]
  },
  {
   "cell_type": "markdown",
   "id": "a01d70bb",
   "metadata": {},
   "source": [
    "# Scaling Offensive Features"
   ]
  },
  {
   "cell_type": "code",
   "execution_count": 7,
   "id": "4e159634",
   "metadata": {},
   "outputs": [],
   "source": [
    "# Generate Scaler instance and scale the data\n",
    "X_off_scaled = StandardScaler().fit_transform(X_off)"
   ]
  },
  {
   "cell_type": "markdown",
   "id": "d4477132",
   "metadata": {},
   "source": [
    "# Principal Component Analysis"
   ]
  },
  {
   "cell_type": "code",
   "execution_count": 8,
   "id": "d206e7cf",
   "metadata": {},
   "outputs": [],
   "source": [
    "# Instantiate PCA\n",
    "pca = PCA(n_components = 10)\n",
    "\n",
    "# Extract from offensive features to 10 components\n",
    "X_off_pca = pca.fit_transform(X_off_scaled)"
   ]
  },
  {
   "cell_type": "code",
   "execution_count": 24,
   "id": "97835138",
   "metadata": {},
   "outputs": [
    {
     "data": {
      "image/png": "[encoded data removed]",
      "text/plain": [
       "<Figure size 432x288 with 1 Axes>"
      ]
     },
     "metadata": {
      "needs_background": "light"
     },
     "output_type": "display_data"
    }
   ],
   "source": [
    "plt.plot(np.arange(pca.n_components_) , pca.explained_variance_ratio_, 'o-', color = \"red\")\n",
    "plt.title(\"Explained Variance of nth Component Extracted\")\n",
    "plt.xlabel(\"Component Number\")\n",
    "plt.ylabel(\"Explained Variance\")\n",
    "plt.show()\n",
    "plt.close()"
   ]
  },
  {
   "cell_type": "code",
   "execution_count": 23,
   "id": "0d8efc8c",
   "metadata": {},
   "outputs": [
    {
     "data": {
      "image/png": "[encoded data removed]",
      "text/plain": [
       "<Figure size 432x288 with 1 Axes>"
      ]
     },
     "metadata": {
      "needs_background": "light"
     },
     "output_type": "display_data"
    }
   ],
   "source": [
    "plt.plot(np.arange(pca.n_components_) , pca.explained_variance_ratio_.cumsum(), 'o-', color = \"red\")\n",
    "plt.title(\"Cumulative Explained Variance by Number \\n of Components Extracted\")\n",
    "plt.xlabel(\"Number of Components Extracted\")\n",
    "plt.ylabel(\"Cumulative Explained Variance\")\n",
    "plt.show()\n",
    "plt.close()"
   ]
  },
  {
   "cell_type": "code",
   "execution_count": null,
   "id": "f4868342",
   "metadata": {},
   "outputs": [],
   "source": []
  }
 ],
 "metadata": {
  "kernelspec": {
   "display_name": "mlenv",
   "language": "python",
   "name": "mlenv"
  },
  "language_info": {
   "codemirror_mode": {
    "name": "ipython",
    "version": 3
   },
   "file_extension": ".py",
   "mimetype": "text/x-python",
   "name": "python",
   "nbconvert_exporter": "python",
   "pygments_lexer": "ipython3",
   "version": "3.7.11"
  }
 },
 "nbformat": 4,
 "nbformat_minor": 5
}
