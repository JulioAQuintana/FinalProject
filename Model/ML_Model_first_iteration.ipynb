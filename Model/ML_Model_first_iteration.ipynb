{
 "cells": [
  {
   "cell_type": "code",
   "execution_count": 56,
   "id": "7ac5330e",
   "metadata": {},
   "outputs": [],
   "source": [
    "#import required libraries\n",
    "import pandas as pd\n",
    "import numpy as np\n",
    "import matplotlib.pyplot as plt\n",
    "from sklearn.feature_selection import chi2, f_classif, mutual_info_classif\n",
    "from itertools import combinations\n",
    "from scipy import stats as st\n",
    "import numpy as np"
   ]
  },
  {
   "cell_type": "code",
   "execution_count": 2,
   "id": "ab7925b0",
   "metadata": {},
   "outputs": [],
   "source": [
    "# Machine learning model libraries \n",
    "from sklearn.model_selection import train_test_split\n",
    "from sklearn.ensemble import RandomForestClassifier\n",
    "from sklearn.metrics import confusion_matrix, accuracy_score, classification_report\n",
    "from sklearn.preprocessing import StandardScaler\n",
    "from sklearn.decomposition import PCA\n",
    "from sklearn.linear_model import LogisticRegression\n",
    "from imblearn.over_sampling import RandomOverSampler, SMOTE, BorderlineSMOTE\n",
    "from imblearn.under_sampling import RandomUnderSampler\n",
    "from imblearn.combine import SMOTEENN\n",
    "from imblearn.ensemble import BalancedRandomForestClassifier"
   ]
  },
  {
   "cell_type": "code",
   "execution_count": 3,
   "id": "54689f4d",
   "metadata": {},
   "outputs": [
    {
     "data": {
      "text/html": [
       "<div>\n",
       "<style scoped>\n",
       "    .dataframe tbody tr th:only-of-type {\n",
       "        vertical-align: middle;\n",
       "    }\n",
       "\n",
       "    .dataframe tbody tr th {\n",
       "        vertical-align: top;\n",
       "    }\n",
       "\n",
       "    .dataframe thead th {\n",
       "        text-align: right;\n",
       "    }\n",
       "</style>\n",
       "<table border=\"1\" class=\"dataframe\">\n",
       "  <thead>\n",
       "    <tr style=\"text-align: right;\">\n",
       "      <th></th>\n",
       "      <th>Unnamed: 0</th>\n",
       "      <th>total_tackles_def</th>\n",
       "      <th>sacks_def</th>\n",
       "      <th>safties_def</th>\n",
       "      <th>passes_defended_def</th>\n",
       "      <th>ints_def</th>\n",
       "      <th>fumbles_lost_fum</th>\n",
       "      <th>td_passes_pass</th>\n",
       "      <th>ints_pass</th>\n",
       "      <th>sacks_pass</th>\n",
       "      <th>...</th>\n",
       "      <th>year</th>\n",
       "      <th>team</th>\n",
       "      <th>fg_success_rate</th>\n",
       "      <th>extra_success_rate</th>\n",
       "      <th>pass_success_rate</th>\n",
       "      <th>avg_yards_pass</th>\n",
       "      <th>avg_yards_rush</th>\n",
       "      <th>kicks_blocked</th>\n",
       "      <th>passes_per_rushing_plays</th>\n",
       "      <th>Champion</th>\n",
       "    </tr>\n",
       "    <tr>\n",
       "      <th>team_year</th>\n",
       "      <th></th>\n",
       "      <th></th>\n",
       "      <th></th>\n",
       "      <th></th>\n",
       "      <th></th>\n",
       "      <th></th>\n",
       "      <th></th>\n",
       "      <th></th>\n",
       "      <th></th>\n",
       "      <th></th>\n",
       "      <th></th>\n",
       "      <th></th>\n",
       "      <th></th>\n",
       "      <th></th>\n",
       "      <th></th>\n",
       "      <th></th>\n",
       "      <th></th>\n",
       "      <th></th>\n",
       "      <th></th>\n",
       "      <th></th>\n",
       "      <th></th>\n",
       "    </tr>\n",
       "  </thead>\n",
       "  <tbody>\n",
       "    <tr>\n",
       "      <th>arizona_cardinals_2001</th>\n",
       "      <td>0</td>\n",
       "      <td>670</td>\n",
       "      <td>5</td>\n",
       "      <td>0</td>\n",
       "      <td>29</td>\n",
       "      <td>13</td>\n",
       "      <td>7.0</td>\n",
       "      <td>0.0</td>\n",
       "      <td>0.0</td>\n",
       "      <td>0.0</td>\n",
       "      <td>...</td>\n",
       "      <td>2001</td>\n",
       "      <td>arizona_cardinals</td>\n",
       "      <td>0.833333</td>\n",
       "      <td>1.0</td>\n",
       "      <td>0.000000</td>\n",
       "      <td>10.715232</td>\n",
       "      <td>3.546939</td>\n",
       "      <td>0.0</td>\n",
       "      <td>0.004082</td>\n",
       "      <td>0.0</td>\n",
       "    </tr>\n",
       "    <tr>\n",
       "      <th>arizona_cardinals_2002</th>\n",
       "      <td>1</td>\n",
       "      <td>547</td>\n",
       "      <td>12</td>\n",
       "      <td>0</td>\n",
       "      <td>24</td>\n",
       "      <td>7</td>\n",
       "      <td>1.0</td>\n",
       "      <td>0.0</td>\n",
       "      <td>2.0</td>\n",
       "      <td>5.0</td>\n",
       "      <td>...</td>\n",
       "      <td>2002</td>\n",
       "      <td>arizona_cardinals</td>\n",
       "      <td>0.000000</td>\n",
       "      <td>0.0</td>\n",
       "      <td>0.388889</td>\n",
       "      <td>11.470588</td>\n",
       "      <td>4.256410</td>\n",
       "      <td>0.0</td>\n",
       "      <td>0.461538</td>\n",
       "      <td>0.0</td>\n",
       "    </tr>\n",
       "    <tr>\n",
       "      <th>arizona_cardinals_2003</th>\n",
       "      <td>2</td>\n",
       "      <td>548</td>\n",
       "      <td>15</td>\n",
       "      <td>0</td>\n",
       "      <td>35</td>\n",
       "      <td>8</td>\n",
       "      <td>7.0</td>\n",
       "      <td>5.0</td>\n",
       "      <td>7.0</td>\n",
       "      <td>25.0</td>\n",
       "      <td>...</td>\n",
       "      <td>2003</td>\n",
       "      <td>arizona_cardinals</td>\n",
       "      <td>0.750000</td>\n",
       "      <td>1.0</td>\n",
       "      <td>0.568862</td>\n",
       "      <td>12.957831</td>\n",
       "      <td>4.943396</td>\n",
       "      <td>0.0</td>\n",
       "      <td>3.150943</td>\n",
       "      <td>0.0</td>\n",
       "    </tr>\n",
       "    <tr>\n",
       "      <th>arizona_cardinals_2004</th>\n",
       "      <td>3</td>\n",
       "      <td>511</td>\n",
       "      <td>16</td>\n",
       "      <td>0</td>\n",
       "      <td>43</td>\n",
       "      <td>7</td>\n",
       "      <td>7.0</td>\n",
       "      <td>13.0</td>\n",
       "      <td>18.0</td>\n",
       "      <td>39.0</td>\n",
       "      <td>...</td>\n",
       "      <td>2004</td>\n",
       "      <td>arizona_cardinals</td>\n",
       "      <td>0.758621</td>\n",
       "      <td>1.0</td>\n",
       "      <td>0.560150</td>\n",
       "      <td>11.369231</td>\n",
       "      <td>3.585034</td>\n",
       "      <td>0.0</td>\n",
       "      <td>3.619048</td>\n",
       "      <td>0.0</td>\n",
       "    </tr>\n",
       "    <tr>\n",
       "      <th>arizona_cardinals_2005</th>\n",
       "      <td>4</td>\n",
       "      <td>483</td>\n",
       "      <td>19</td>\n",
       "      <td>0</td>\n",
       "      <td>27</td>\n",
       "      <td>9</td>\n",
       "      <td>11.0</td>\n",
       "      <td>21.0</td>\n",
       "      <td>21.0</td>\n",
       "      <td>45.0</td>\n",
       "      <td>...</td>\n",
       "      <td>2005</td>\n",
       "      <td>arizona_cardinals</td>\n",
       "      <td>0.955556</td>\n",
       "      <td>1.0</td>\n",
       "      <td>0.625373</td>\n",
       "      <td>12.421053</td>\n",
       "      <td>3.541436</td>\n",
       "      <td>0.0</td>\n",
       "      <td>3.701657</td>\n",
       "      <td>0.0</td>\n",
       "    </tr>\n",
       "  </tbody>\n",
       "</table>\n",
       "<p>5 rows × 22 columns</p>\n",
       "</div>"
      ],
      "text/plain": [
       "                        Unnamed: 0  total_tackles_def  sacks_def  safties_def  \\\n",
       "team_year                                                                       \n",
       "arizona_cardinals_2001           0                670          5            0   \n",
       "arizona_cardinals_2002           1                547         12            0   \n",
       "arizona_cardinals_2003           2                548         15            0   \n",
       "arizona_cardinals_2004           3                511         16            0   \n",
       "arizona_cardinals_2005           4                483         19            0   \n",
       "\n",
       "                        passes_defended_def  ints_def  fumbles_lost_fum  \\\n",
       "team_year                                                                 \n",
       "arizona_cardinals_2001                   29        13               7.0   \n",
       "arizona_cardinals_2002                   24         7               1.0   \n",
       "arizona_cardinals_2003                   35         8               7.0   \n",
       "arizona_cardinals_2004                   43         7               7.0   \n",
       "arizona_cardinals_2005                   27         9              11.0   \n",
       "\n",
       "                        td_passes_pass  ints_pass  sacks_pass  ...  year  \\\n",
       "team_year                                                      ...         \n",
       "arizona_cardinals_2001             0.0        0.0         0.0  ...  2001   \n",
       "arizona_cardinals_2002             0.0        2.0         5.0  ...  2002   \n",
       "arizona_cardinals_2003             5.0        7.0        25.0  ...  2003   \n",
       "arizona_cardinals_2004            13.0       18.0        39.0  ...  2004   \n",
       "arizona_cardinals_2005            21.0       21.0        45.0  ...  2005   \n",
       "\n",
       "                                     team  fg_success_rate extra_success_rate  \\\n",
       "team_year                                                                       \n",
       "arizona_cardinals_2001  arizona_cardinals         0.833333                1.0   \n",
       "arizona_cardinals_2002  arizona_cardinals         0.000000                0.0   \n",
       "arizona_cardinals_2003  arizona_cardinals         0.750000                1.0   \n",
       "arizona_cardinals_2004  arizona_cardinals         0.758621                1.0   \n",
       "arizona_cardinals_2005  arizona_cardinals         0.955556                1.0   \n",
       "\n",
       "                        pass_success_rate  avg_yards_pass  avg_yards_rush  \\\n",
       "team_year                                                                   \n",
       "arizona_cardinals_2001           0.000000       10.715232        3.546939   \n",
       "arizona_cardinals_2002           0.388889       11.470588        4.256410   \n",
       "arizona_cardinals_2003           0.568862       12.957831        4.943396   \n",
       "arizona_cardinals_2004           0.560150       11.369231        3.585034   \n",
       "arizona_cardinals_2005           0.625373       12.421053        3.541436   \n",
       "\n",
       "                        kicks_blocked  passes_per_rushing_plays  Champion  \n",
       "team_year                                                                  \n",
       "arizona_cardinals_2001            0.0                  0.004082       0.0  \n",
       "arizona_cardinals_2002            0.0                  0.461538       0.0  \n",
       "arizona_cardinals_2003            0.0                  3.150943       0.0  \n",
       "arizona_cardinals_2004            0.0                  3.619048       0.0  \n",
       "arizona_cardinals_2005            0.0                  3.701657       0.0  \n",
       "\n",
       "[5 rows x 22 columns]"
      ]
     },
     "execution_count": 3,
     "metadata": {},
     "output_type": "execute_result"
    }
   ],
   "source": [
    "# Import Dataset\n",
    "df = pd.read_csv(\"../Resources/sb_champion_stats.csv\", index_col = 1)\n",
    "df.head()"
   ]
  },
  {
   "cell_type": "code",
   "execution_count": 4,
   "id": "36b7278a",
   "metadata": {},
   "outputs": [
    {
     "data": {
      "text/plain": [
       "(511, 15)"
      ]
     },
     "execution_count": 4,
     "metadata": {},
     "output_type": "execute_result"
    }
   ],
   "source": [
    "# Drop Columns \n",
    "df = df.drop([\"year\", \"team\", \"Unnamed: 0\", \"extra_success_rate\", \"fg_success_rate\", \"kicks_blocked\", \n",
    "             \"safties_def\"], axis = 1)\n",
    "df.shape"
   ]
  },
  {
   "cell_type": "code",
   "execution_count": 5,
   "id": "f96ebeb7",
   "metadata": {},
   "outputs": [],
   "source": [
    "X = df.drop(\"Champion\", axis = 1)\n",
    "y = df[\"Champion\"]"
   ]
  },
  {
   "cell_type": "markdown",
   "id": "a01d70bb",
   "metadata": {},
   "source": [
    "# Scaling Features"
   ]
  },
  {
   "cell_type": "code",
   "execution_count": 6,
   "id": "4e159634",
   "metadata": {},
   "outputs": [],
   "source": [
    "# Generate Scaler instance and scale the data\n",
    "X_scaled = StandardScaler().fit_transform(X)"
   ]
  },
  {
   "cell_type": "markdown",
   "id": "ad101595",
   "metadata": {},
   "source": [
    "# Adressing Target Variable Imbalance"
   ]
  },
  {
   "cell_type": "markdown",
   "id": "9e04e532",
   "metadata": {},
   "source": [
    "## Target variable imbalance needs to be addressed to avoid overfitting"
   ]
  },
  {
   "cell_type": "code",
   "execution_count": 7,
   "id": "ef54c5d3",
   "metadata": {},
   "outputs": [
    {
     "data": {
      "text/plain": [
       "0.0    495\n",
       "1.0     16\n",
       "Name: Champion, dtype: int64"
      ]
     },
     "execution_count": 7,
     "metadata": {},
     "output_type": "execute_result"
    }
   ],
   "source": [
    "# Value counts for target variable shows a minority:majority class ratio of about 1:30\n",
    "y.value_counts()"
   ]
  },
  {
   "cell_type": "code",
   "execution_count": 8,
   "id": "ab74ad14",
   "metadata": {},
   "outputs": [],
   "source": [
    "# Prior to addressing the issue, we must split dataset into training and testing\n",
    "X_train, X_test, y_train, y_test = train_test_split(X_scaled, y, random_state=1)"
   ]
  },
  {
   "cell_type": "markdown",
   "id": "57a26918",
   "metadata": {},
   "source": [
    "## Naive random over and under sampling"
   ]
  },
  {
   "cell_type": "code",
   "execution_count": 9,
   "id": "96d196fe",
   "metadata": {},
   "outputs": [],
   "source": [
    "# Naive under sampling will randomly reduce the amount of observations in the majority class to balance outcomes\n",
    "naive_rus = RandomUnderSampler(random_state=1)\n",
    "X_naive_rus, y_naive_rus = naive_rus.fit_resample(X_train, y_train)"
   ]
  },
  {
   "cell_type": "code",
   "execution_count": 10,
   "id": "18ee4b58",
   "metadata": {},
   "outputs": [
    {
     "data": {
      "text/plain": [
       "0.0    10\n",
       "1.0    10\n",
       "Name: Champion, dtype: int64"
      ]
     },
     "execution_count": 10,
     "metadata": {},
     "output_type": "execute_result"
    }
   ],
   "source": [
    "# Show results\n",
    "y_naive_rus.value_counts()"
   ]
  },
  {
   "cell_type": "code",
   "execution_count": 11,
   "id": "f62d9245",
   "metadata": {},
   "outputs": [],
   "source": [
    "# Naive over sampling will randomly generate new minority class observations to balance outcomes\n",
    "naive_ros = RandomOverSampler(random_state=1)\n",
    "X_naive_ros, y_naive_ros = naive_ros.fit_resample(X_train, y_train)"
   ]
  },
  {
   "cell_type": "code",
   "execution_count": 12,
   "id": "2f86b79c",
   "metadata": {},
   "outputs": [
    {
     "data": {
      "text/plain": [
       "0.0    373\n",
       "1.0    373\n",
       "Name: Champion, dtype: int64"
      ]
     },
     "execution_count": 12,
     "metadata": {},
     "output_type": "execute_result"
    }
   ],
   "source": [
    "# Show results\n",
    "y_naive_ros.value_counts()"
   ]
  },
  {
   "cell_type": "code",
   "execution_count": 13,
   "id": "fdf1be18",
   "metadata": {},
   "outputs": [],
   "source": [
    "# We may also apply both sequentially and set the sampling strategy parameter to balance out the outcomes\n",
    "naive_ros_2 = RandomOverSampler(random_state=1, sampling_strategy=.5)\n",
    "X_naive_ros_2, y_naive_ros_2 = naive_ros_2.fit_resample(X_train, y_train)\n",
    "\n",
    "naive_rus_2 = RandomUnderSampler(random_state=1)\n",
    "X_naive_ros_rus, y_naive_ros_rus = naive_rus_2.fit_resample(X_naive_ros_2, y_naive_ros_2)"
   ]
  },
  {
   "cell_type": "code",
   "execution_count": 14,
   "id": "0070521e",
   "metadata": {},
   "outputs": [
    {
     "data": {
      "text/plain": [
       "0.0    186\n",
       "1.0    186\n",
       "Name: Champion, dtype: int64"
      ]
     },
     "execution_count": 14,
     "metadata": {},
     "output_type": "execute_result"
    }
   ],
   "source": [
    "# Show Results\n",
    "y_naive_ros_rus.value_counts()"
   ]
  },
  {
   "cell_type": "markdown",
   "id": "f418795d",
   "metadata": {},
   "source": [
    "## SMOTE oversampling"
   ]
  },
  {
   "cell_type": "code",
   "execution_count": 15,
   "id": "2d88ef5e",
   "metadata": {},
   "outputs": [],
   "source": [
    "# Smote oversampling will create synthetic new observations similar to the minority class to balance outcomes\n",
    "smote = SMOTE(random_state=1)\n",
    "X_smote, y_smote = smote.fit_resample(X_train, y_train)"
   ]
  },
  {
   "cell_type": "code",
   "execution_count": 16,
   "id": "c2a3e9ea",
   "metadata": {},
   "outputs": [
    {
     "data": {
      "text/plain": [
       "0.0    373\n",
       "1.0    373\n",
       "Name: Champion, dtype: int64"
      ]
     },
     "execution_count": 16,
     "metadata": {},
     "output_type": "execute_result"
    }
   ],
   "source": [
    "# Show results\n",
    "y_smote.value_counts()"
   ]
  },
  {
   "cell_type": "markdown",
   "id": "8cf4253c",
   "metadata": {},
   "source": [
    "## Combination sampling: SMOTEENN"
   ]
  },
  {
   "cell_type": "code",
   "execution_count": 17,
   "id": "429add7f",
   "metadata": {},
   "outputs": [],
   "source": [
    "# Smoteenn will balance outcomes by utilizing both over and under sampling methods\n",
    "smoteenn = SMOTEENN(random_state=1)\n",
    "X_smoteenn, y_smoteenn = smoteenn.fit_resample(X_train, y_train)"
   ]
  },
  {
   "cell_type": "code",
   "execution_count": 18,
   "id": "af526231",
   "metadata": {},
   "outputs": [
    {
     "data": {
      "text/plain": [
       "1.0    368\n",
       "0.0    264\n",
       "Name: Champion, dtype: int64"
      ]
     },
     "execution_count": 18,
     "metadata": {},
     "output_type": "execute_result"
    }
   ],
   "source": [
    "# Show results\n",
    "y_smoteenn.value_counts()"
   ]
  },
  {
   "cell_type": "markdown",
   "id": "5563b4f6",
   "metadata": {},
   "source": [
    "# Supervised Learning Models: First Iteration (all features)"
   ]
  },
  {
   "cell_type": "markdown",
   "id": "d6f64c27",
   "metadata": {},
   "source": [
    "## Logistic Regression"
   ]
  },
  {
   "cell_type": "code",
   "execution_count": 19,
   "id": "0b6c5c91",
   "metadata": {},
   "outputs": [],
   "source": [
    "# Generate model instance\n",
    "lr_model = LogisticRegression(solver='lbfgs', random_state=1)"
   ]
  },
  {
   "cell_type": "code",
   "execution_count": 20,
   "id": "7f74467c",
   "metadata": {},
   "outputs": [],
   "source": [
    "# Fit on resampled features and predict\n",
    "\n",
    "## Naive random undersample\n",
    "lr_model.fit(X_naive_rus, y_naive_rus)\n",
    "y_lr_naive_rus = lr_model.predict(X_test)\n",
    "\n",
    "## Naive random oversample\n",
    "lr_model.fit(X_naive_ros, y_naive_ros)\n",
    "y_lr_naive_ros = lr_model.predict(X_test)\n",
    "\n",
    "## Naive ros rus\n",
    "lr_model.fit(X_naive_ros_rus, y_naive_ros_rus)\n",
    "y_lr_naive_ros_rus = lr_model.predict(X_test)\n",
    "\n",
    "## SMOTE\n",
    "lr_model.fit(X_smote, y_smote)\n",
    "y_lr_smote = lr_model.predict(X_test)\n",
    "\n",
    "## SMOTEENN\n",
    "lr_model.fit(X_smoteenn, y_smoteenn)\n",
    "y_lr_smoteenn = lr_model.predict(X_test)"
   ]
  },
  {
   "cell_type": "code",
   "execution_count": 21,
   "id": "a30f3b8c",
   "metadata": {},
   "outputs": [
    {
     "name": "stdout",
     "output_type": "stream",
     "text": [
      "0.515625\n",
      "[[62 60]\n",
      " [ 2  4]]\n",
      "              precision    recall  f1-score   support\n",
      "\n",
      "         0.0       0.97      0.51      0.67       122\n",
      "         1.0       0.06      0.67      0.11         6\n",
      "\n",
      "    accuracy                           0.52       128\n",
      "   macro avg       0.52      0.59      0.39       128\n",
      "weighted avg       0.93      0.52      0.64       128\n",
      "\n",
      " \n",
      "0.78125\n",
      "[[98 24]\n",
      " [ 4  2]]\n",
      "              precision    recall  f1-score   support\n",
      "\n",
      "         0.0       0.96      0.80      0.88       122\n",
      "         1.0       0.08      0.33      0.12         6\n",
      "\n",
      "    accuracy                           0.78       128\n",
      "   macro avg       0.52      0.57      0.50       128\n",
      "weighted avg       0.92      0.78      0.84       128\n",
      "\n",
      " \n",
      "0.765625\n",
      "[[96 26]\n",
      " [ 4  2]]\n",
      "              precision    recall  f1-score   support\n",
      "\n",
      "         0.0       0.96      0.79      0.86       122\n",
      "         1.0       0.07      0.33      0.12         6\n",
      "\n",
      "    accuracy                           0.77       128\n",
      "   macro avg       0.52      0.56      0.49       128\n",
      "weighted avg       0.92      0.77      0.83       128\n",
      "\n",
      " \n",
      "0.7578125\n",
      "[[95 27]\n",
      " [ 4  2]]\n",
      "              precision    recall  f1-score   support\n",
      "\n",
      "         0.0       0.96      0.78      0.86       122\n",
      "         1.0       0.07      0.33      0.11         6\n",
      "\n",
      "    accuracy                           0.76       128\n",
      "   macro avg       0.51      0.56      0.49       128\n",
      "weighted avg       0.92      0.76      0.82       128\n",
      "\n",
      " \n",
      "0.734375\n",
      "[[92 30]\n",
      " [ 4  2]]\n",
      "              precision    recall  f1-score   support\n",
      "\n",
      "         0.0       0.96      0.75      0.84       122\n",
      "         1.0       0.06      0.33      0.11         6\n",
      "\n",
      "    accuracy                           0.73       128\n",
      "   macro avg       0.51      0.54      0.47       128\n",
      "weighted avg       0.92      0.73      0.81       128\n",
      "\n",
      " \n"
     ]
    }
   ],
   "source": [
    "# Display results\n",
    "\n",
    "## Confusion Matrix, Accuracy Score and Classification Report\n",
    "for x in [y_lr_naive_rus, y_lr_naive_ros, y_lr_naive_ros_rus, y_lr_smote, y_lr_smoteenn]:\n",
    "    print(accuracy_score(y_test, x))\n",
    "    print(confusion_matrix(y_test, x))\n",
    "    print(classification_report(y_test, x))\n",
    "    print(\" \")"
   ]
  },
  {
   "cell_type": "markdown",
   "id": "eff4a96f",
   "metadata": {},
   "source": [
    "## Random Forest Classifier"
   ]
  },
  {
   "cell_type": "code",
   "execution_count": 22,
   "id": "0bb40caa",
   "metadata": {},
   "outputs": [],
   "source": [
    "# Generate model instance\n",
    "rf_model = RandomForestClassifier(n_estimators=400, random_state=1)"
   ]
  },
  {
   "cell_type": "code",
   "execution_count": 23,
   "id": "c792fae8",
   "metadata": {},
   "outputs": [],
   "source": [
    "# Fit on resampled features and predict\n",
    "\n",
    "## Naive random undersample\n",
    "rf_model.fit(X_naive_rus, y_naive_rus)\n",
    "y_rf_naive_rus = rf_model.predict(X_test)\n",
    "rf_naive_rus_fi = rf_model.feature_importances_\n",
    "\n",
    "## Naive random oversample\n",
    "rf_model.fit(X_naive_ros, y_naive_ros)\n",
    "y_rf_naive_ros = rf_model.predict(X_test)\n",
    "rf_naive_ros_fi = rf_model.feature_importances_\n",
    "\n",
    "## Naive ros rus\n",
    "rf_model.fit(X_naive_ros_rus, y_naive_ros_rus)\n",
    "y_rf_naive_ros_rus = rf_model.predict(X_test)\n",
    "rf_naive_ros_rus_fi = rf_model.feature_importances_\n",
    "\n",
    "## SMOTE\n",
    "rf_model.fit(X_smote, y_smote)\n",
    "y_rf_smote = rf_model.predict(X_test)\n",
    "rf_smote_fi = rf_model.feature_importances_\n",
    "\n",
    "## SMOTEENN\n",
    "rf_model.fit(X_smoteenn, y_smoteenn)\n",
    "y_rf_smoteenn = rf_model.predict(X_test)\n",
    "rf_smoteenn_fi = rf_model.feature_importances_"
   ]
  },
  {
   "cell_type": "code",
   "execution_count": 24,
   "id": "23ecc519",
   "metadata": {},
   "outputs": [
    {
     "name": "stdout",
     "output_type": "stream",
     "text": [
      "0.4296875\n",
      "[[51 71]\n",
      " [ 2  4]]\n",
      "              precision    recall  f1-score   support\n",
      "\n",
      "         0.0       0.96      0.42      0.58       122\n",
      "         1.0       0.05      0.67      0.10         6\n",
      "\n",
      "    accuracy                           0.43       128\n",
      "   macro avg       0.51      0.54      0.34       128\n",
      "weighted avg       0.92      0.43      0.56       128\n",
      "\n",
      " \n",
      "0.953125\n",
      "[[122   0]\n",
      " [  6   0]]\n",
      "              precision    recall  f1-score   support\n",
      "\n",
      "         0.0       0.95      1.00      0.98       122\n",
      "         1.0       0.00      0.00      0.00         6\n",
      "\n",
      "    accuracy                           0.95       128\n",
      "   macro avg       0.48      0.50      0.49       128\n",
      "weighted avg       0.91      0.95      0.93       128\n",
      "\n",
      " \n",
      "0.953125\n",
      "[[122   0]\n",
      " [  6   0]]\n",
      "              precision    recall  f1-score   support\n",
      "\n",
      "         0.0       0.95      1.00      0.98       122\n",
      "         1.0       0.00      0.00      0.00         6\n",
      "\n",
      "    accuracy                           0.95       128\n",
      "   macro avg       0.48      0.50      0.49       128\n",
      "weighted avg       0.91      0.95      0.93       128\n",
      "\n",
      " \n",
      "0.9375\n",
      "[[120   2]\n",
      " [  6   0]]\n",
      "              precision    recall  f1-score   support\n",
      "\n",
      "         0.0       0.95      0.98      0.97       122\n",
      "         1.0       0.00      0.00      0.00         6\n",
      "\n",
      "    accuracy                           0.94       128\n",
      "   macro avg       0.48      0.49      0.48       128\n",
      "weighted avg       0.91      0.94      0.92       128\n",
      "\n",
      " \n",
      "0.875\n",
      "[[112  10]\n",
      " [  6   0]]\n",
      "              precision    recall  f1-score   support\n",
      "\n",
      "         0.0       0.95      0.92      0.93       122\n",
      "         1.0       0.00      0.00      0.00         6\n",
      "\n",
      "    accuracy                           0.88       128\n",
      "   macro avg       0.47      0.46      0.47       128\n",
      "weighted avg       0.90      0.88      0.89       128\n",
      "\n",
      " \n"
     ]
    },
    {
     "name": "stderr",
     "output_type": "stream",
     "text": [
      "/Users/Alvarado/opt/anaconda3/envs/mlenv/lib/python3.7/site-packages/sklearn/metrics/_classification.py:1318: UndefinedMetricWarning: Precision and F-score are ill-defined and being set to 0.0 in labels with no predicted samples. Use `zero_division` parameter to control this behavior.\n",
      "  _warn_prf(average, modifier, msg_start, len(result))\n",
      "/Users/Alvarado/opt/anaconda3/envs/mlenv/lib/python3.7/site-packages/sklearn/metrics/_classification.py:1318: UndefinedMetricWarning: Precision and F-score are ill-defined and being set to 0.0 in labels with no predicted samples. Use `zero_division` parameter to control this behavior.\n",
      "  _warn_prf(average, modifier, msg_start, len(result))\n",
      "/Users/Alvarado/opt/anaconda3/envs/mlenv/lib/python3.7/site-packages/sklearn/metrics/_classification.py:1318: UndefinedMetricWarning: Precision and F-score are ill-defined and being set to 0.0 in labels with no predicted samples. Use `zero_division` parameter to control this behavior.\n",
      "  _warn_prf(average, modifier, msg_start, len(result))\n",
      "/Users/Alvarado/opt/anaconda3/envs/mlenv/lib/python3.7/site-packages/sklearn/metrics/_classification.py:1318: UndefinedMetricWarning: Precision and F-score are ill-defined and being set to 0.0 in labels with no predicted samples. Use `zero_division` parameter to control this behavior.\n",
      "  _warn_prf(average, modifier, msg_start, len(result))\n",
      "/Users/Alvarado/opt/anaconda3/envs/mlenv/lib/python3.7/site-packages/sklearn/metrics/_classification.py:1318: UndefinedMetricWarning: Precision and F-score are ill-defined and being set to 0.0 in labels with no predicted samples. Use `zero_division` parameter to control this behavior.\n",
      "  _warn_prf(average, modifier, msg_start, len(result))\n",
      "/Users/Alvarado/opt/anaconda3/envs/mlenv/lib/python3.7/site-packages/sklearn/metrics/_classification.py:1318: UndefinedMetricWarning: Precision and F-score are ill-defined and being set to 0.0 in labels with no predicted samples. Use `zero_division` parameter to control this behavior.\n",
      "  _warn_prf(average, modifier, msg_start, len(result))\n"
     ]
    }
   ],
   "source": [
    "# Display results\n",
    "\n",
    "## Confusion Matrix, Accuracy Score and Classification Report\n",
    "for x in [y_rf_naive_rus, y_rf_naive_ros, y_rf_naive_ros_rus, y_rf_smote, y_rf_smoteenn]:\n",
    "    print(accuracy_score(y_test, x))\n",
    "    print(confusion_matrix(y_test, x))\n",
    "    print(classification_report(y_test, x))\n",
    "    print(\" \")"
   ]
  },
  {
   "cell_type": "markdown",
   "id": "31066c96",
   "metadata": {},
   "source": [
    "## Balanced Random Forest Classifier"
   ]
  },
  {
   "cell_type": "code",
   "execution_count": 25,
   "id": "bb2fcf29",
   "metadata": {},
   "outputs": [],
   "source": [
    "# Generate Imbalanced Random Forest Classier instance\n",
    "irf_model = BalancedRandomForestClassifier(n_estimators=250, random_state=1)"
   ]
  },
  {
   "cell_type": "code",
   "execution_count": 26,
   "id": "3f975561",
   "metadata": {},
   "outputs": [],
   "source": [
    "# Fit on features and predict\n",
    "irf_model.fit(X_train, y_train)\n",
    "y_irf = irf_model.predict(X_test)"
   ]
  },
  {
   "cell_type": "code",
   "execution_count": 27,
   "id": "10b3fb54",
   "metadata": {},
   "outputs": [],
   "source": [
    "# Feature impotances\n",
    "irf_fi = irf_model.feature_importances_"
   ]
  },
  {
   "cell_type": "code",
   "execution_count": 28,
   "id": "de89e5c3",
   "metadata": {},
   "outputs": [
    {
     "name": "stdout",
     "output_type": "stream",
     "text": [
      "0.5703125\n",
      "[[69 53]\n",
      " [ 2  4]]\n",
      "              precision    recall  f1-score   support\n",
      "\n",
      "         0.0       0.97      0.57      0.72       122\n",
      "         1.0       0.07      0.67      0.13         6\n",
      "\n",
      "    accuracy                           0.57       128\n",
      "   macro avg       0.52      0.62      0.42       128\n",
      "weighted avg       0.93      0.57      0.69       128\n",
      "\n"
     ]
    }
   ],
   "source": [
    "# Display results\n",
    "print(accuracy_score(y_test, y_irf))\n",
    "print(confusion_matrix(y_test, y_irf))\n",
    "print(classification_report(y_test, y_irf))"
   ]
  },
  {
   "cell_type": "markdown",
   "id": "86973e63",
   "metadata": {},
   "source": [
    "# Evaluating feature importance"
   ]
  },
  {
   "cell_type": "code",
   "execution_count": 29,
   "id": "2d70a3b4",
   "metadata": {},
   "outputs": [
    {
     "data": {
      "text/html": [
       "<div>\n",
       "<style scoped>\n",
       "    .dataframe tbody tr th:only-of-type {\n",
       "        vertical-align: middle;\n",
       "    }\n",
       "\n",
       "    .dataframe tbody tr th {\n",
       "        vertical-align: top;\n",
       "    }\n",
       "\n",
       "    .dataframe thead th {\n",
       "        text-align: right;\n",
       "    }\n",
       "</style>\n",
       "<table border=\"1\" class=\"dataframe\">\n",
       "  <thead>\n",
       "    <tr style=\"text-align: right;\">\n",
       "      <th></th>\n",
       "      <th>RF-RUS</th>\n",
       "      <th>RF-ROS</th>\n",
       "      <th>RF-ROS-RUS</th>\n",
       "      <th>RF-SMOTE</th>\n",
       "      <th>RF-SMOTEENN</th>\n",
       "      <th>IRF</th>\n",
       "    </tr>\n",
       "  </thead>\n",
       "  <tbody>\n",
       "    <tr>\n",
       "      <th>total_tackles_def</th>\n",
       "      <td>0.090383</td>\n",
       "      <td>0.073887</td>\n",
       "      <td>0.081842</td>\n",
       "      <td>0.081795</td>\n",
       "      <td>0.066837</td>\n",
       "      <td>0.083803</td>\n",
       "    </tr>\n",
       "    <tr>\n",
       "      <th>sacks_def</th>\n",
       "      <td>0.044563</td>\n",
       "      <td>0.033042</td>\n",
       "      <td>0.030305</td>\n",
       "      <td>0.028269</td>\n",
       "      <td>0.025662</td>\n",
       "      <td>0.037519</td>\n",
       "    </tr>\n",
       "    <tr>\n",
       "      <th>passes_defended_def</th>\n",
       "      <td>0.081433</td>\n",
       "      <td>0.034371</td>\n",
       "      <td>0.042009</td>\n",
       "      <td>0.030966</td>\n",
       "      <td>0.028696</td>\n",
       "      <td>0.055430</td>\n",
       "    </tr>\n",
       "    <tr>\n",
       "      <th>ints_def</th>\n",
       "      <td>0.028790</td>\n",
       "      <td>0.036894</td>\n",
       "      <td>0.033348</td>\n",
       "      <td>0.052812</td>\n",
       "      <td>0.042470</td>\n",
       "      <td>0.049155</td>\n",
       "    </tr>\n",
       "    <tr>\n",
       "      <th>fumbles_lost_fum</th>\n",
       "      <td>0.044010</td>\n",
       "      <td>0.083412</td>\n",
       "      <td>0.086889</td>\n",
       "      <td>0.135261</td>\n",
       "      <td>0.161189</td>\n",
       "      <td>0.081580</td>\n",
       "    </tr>\n",
       "    <tr>\n",
       "      <th>td_passes_pass</th>\n",
       "      <td>0.085493</td>\n",
       "      <td>0.111746</td>\n",
       "      <td>0.131284</td>\n",
       "      <td>0.137094</td>\n",
       "      <td>0.155300</td>\n",
       "      <td>0.099072</td>\n",
       "    </tr>\n",
       "    <tr>\n",
       "      <th>ints_pass</th>\n",
       "      <td>0.090628</td>\n",
       "      <td>0.114793</td>\n",
       "      <td>0.096209</td>\n",
       "      <td>0.051138</td>\n",
       "      <td>0.039627</td>\n",
       "      <td>0.079029</td>\n",
       "    </tr>\n",
       "    <tr>\n",
       "      <th>sacks_pass</th>\n",
       "      <td>0.139486</td>\n",
       "      <td>0.059368</td>\n",
       "      <td>0.058247</td>\n",
       "      <td>0.063619</td>\n",
       "      <td>0.054282</td>\n",
       "      <td>0.068279</td>\n",
       "    </tr>\n",
       "    <tr>\n",
       "      <th>receiving_tds_rec</th>\n",
       "      <td>0.066555</td>\n",
       "      <td>0.056200</td>\n",
       "      <td>0.060010</td>\n",
       "      <td>0.061709</td>\n",
       "      <td>0.059629</td>\n",
       "      <td>0.053320</td>\n",
       "    </tr>\n",
       "    <tr>\n",
       "      <th>rushing_tds_rush</th>\n",
       "      <td>0.074377</td>\n",
       "      <td>0.059663</td>\n",
       "      <td>0.060682</td>\n",
       "      <td>0.050721</td>\n",
       "      <td>0.048507</td>\n",
       "      <td>0.067118</td>\n",
       "    </tr>\n",
       "    <tr>\n",
       "      <th>pass_success_rate</th>\n",
       "      <td>0.081065</td>\n",
       "      <td>0.156840</td>\n",
       "      <td>0.149417</td>\n",
       "      <td>0.167759</td>\n",
       "      <td>0.195097</td>\n",
       "      <td>0.123838</td>\n",
       "    </tr>\n",
       "    <tr>\n",
       "      <th>avg_yards_pass</th>\n",
       "      <td>0.056842</td>\n",
       "      <td>0.061207</td>\n",
       "      <td>0.039657</td>\n",
       "      <td>0.041786</td>\n",
       "      <td>0.028278</td>\n",
       "      <td>0.057784</td>\n",
       "    </tr>\n",
       "    <tr>\n",
       "      <th>avg_yards_rush</th>\n",
       "      <td>0.062430</td>\n",
       "      <td>0.043164</td>\n",
       "      <td>0.049583</td>\n",
       "      <td>0.024828</td>\n",
       "      <td>0.017778</td>\n",
       "      <td>0.086243</td>\n",
       "    </tr>\n",
       "    <tr>\n",
       "      <th>passes_per_rushing_plays</th>\n",
       "      <td>0.053946</td>\n",
       "      <td>0.075414</td>\n",
       "      <td>0.080518</td>\n",
       "      <td>0.072243</td>\n",
       "      <td>0.076647</td>\n",
       "      <td>0.057832</td>\n",
       "    </tr>\n",
       "  </tbody>\n",
       "</table>\n",
       "</div>"
      ],
      "text/plain": [
       "                            RF-RUS    RF-ROS  RF-ROS-RUS  RF-SMOTE  \\\n",
       "total_tackles_def         0.090383  0.073887    0.081842  0.081795   \n",
       "sacks_def                 0.044563  0.033042    0.030305  0.028269   \n",
       "passes_defended_def       0.081433  0.034371    0.042009  0.030966   \n",
       "ints_def                  0.028790  0.036894    0.033348  0.052812   \n",
       "fumbles_lost_fum          0.044010  0.083412    0.086889  0.135261   \n",
       "td_passes_pass            0.085493  0.111746    0.131284  0.137094   \n",
       "ints_pass                 0.090628  0.114793    0.096209  0.051138   \n",
       "sacks_pass                0.139486  0.059368    0.058247  0.063619   \n",
       "receiving_tds_rec         0.066555  0.056200    0.060010  0.061709   \n",
       "rushing_tds_rush          0.074377  0.059663    0.060682  0.050721   \n",
       "pass_success_rate         0.081065  0.156840    0.149417  0.167759   \n",
       "avg_yards_pass            0.056842  0.061207    0.039657  0.041786   \n",
       "avg_yards_rush            0.062430  0.043164    0.049583  0.024828   \n",
       "passes_per_rushing_plays  0.053946  0.075414    0.080518  0.072243   \n",
       "\n",
       "                          RF-SMOTEENN       IRF  \n",
       "total_tackles_def            0.066837  0.083803  \n",
       "sacks_def                    0.025662  0.037519  \n",
       "passes_defended_def          0.028696  0.055430  \n",
       "ints_def                     0.042470  0.049155  \n",
       "fumbles_lost_fum             0.161189  0.081580  \n",
       "td_passes_pass               0.155300  0.099072  \n",
       "ints_pass                    0.039627  0.079029  \n",
       "sacks_pass                   0.054282  0.068279  \n",
       "receiving_tds_rec            0.059629  0.053320  \n",
       "rushing_tds_rush             0.048507  0.067118  \n",
       "pass_success_rate            0.195097  0.123838  \n",
       "avg_yards_pass               0.028278  0.057784  \n",
       "avg_yards_rush               0.017778  0.086243  \n",
       "passes_per_rushing_plays     0.076647  0.057832  "
      ]
     },
     "execution_count": 29,
     "metadata": {},
     "output_type": "execute_result"
    }
   ],
   "source": [
    "# Create feature importances DataFrame\n",
    "fi_df = pd.DataFrame({\"RF-RUS\":rf_naive_rus_fi, \"RF-ROS\":rf_naive_ros_fi, \"RF-ROS-RUS\":rf_naive_ros_rus_fi,\n",
    "              \"RF-SMOTE\":rf_smote_fi, \"RF-SMOTEENN\":rf_smoteenn_fi, \"IRF\":irf_fi}, \n",
    "             index = X.columns)\n",
    "fi_df"
   ]
  },
  {
   "cell_type": "code",
   "execution_count": 31,
   "id": "28485c1f",
   "metadata": {},
   "outputs": [
    {
     "name": "stdout",
     "output_type": "stream",
     "text": [
      "RF-RUS\n"
     ]
    },
    {
     "data": {
      "image/png": "[encoded data removed]",
      "text/plain": [
       "<Figure size 432x288 with 1 Axes>"
      ]
     },
     "metadata": {
      "needs_background": "light"
     },
     "output_type": "display_data"
    },
    {
     "name": "stdout",
     "output_type": "stream",
     "text": [
      "RF-ROS\n"
     ]
    },
    {
     "data": {
      "image/png": "[encoded data removed]",
      "text/plain": [
       "<Figure size 432x288 with 1 Axes>"
      ]
     },
     "metadata": {
      "needs_background": "light"
     },
     "output_type": "display_data"
    },
    {
     "name": "stdout",
     "output_type": "stream",
     "text": [
      "RF-ROS-RUS\n"
     ]
    },
    {
     "data": {
      "image/png": "[encoded data removed]",
      "text/plain": [
       "<Figure size 432x288 with 1 Axes>"
      ]
     },
     "metadata": {
      "needs_background": "light"
     },
     "output_type": "display_data"
    },
    {
     "name": "stdout",
     "output_type": "stream",
     "text": [
      "RF-SMOTE\n"
     ]
    },
    {
     "data": {
      "image/png": "[encoded data removed]",
      "text/plain": [
       "<Figure size 432x288 with 1 Axes>"
      ]
     },
     "metadata": {
      "needs_background": "light"
     },
     "output_type": "display_data"
    },
    {
     "name": "stdout",
     "output_type": "stream",
     "text": [
      "RF-SMOTEENN\n"
     ]
    },
    {
     "data": {
      "image/png": "[encoded data removed]",
      "text/plain": [
       "<Figure size 432x288 with 1 Axes>"
      ]
     },
     "metadata": {
      "needs_background": "light"
     },
     "output_type": "display_data"
    },
    {
     "name": "stdout",
     "output_type": "stream",
     "text": [
      "IRF\n"
     ]
    },
    {
     "data": {
      "image/png": "[encoded data removed]",
      "text/plain": [
       "<Figure size 432x288 with 1 Axes>"
      ]
     },
     "metadata": {
      "needs_background": "light"
     },
     "output_type": "display_data"
    }
   ],
   "source": [
    "# Plot descriptive statistics of feature importances\n",
    "for col in fi_df.columns:\n",
    "    print(col)\n",
    "    plt.figure()\n",
    "    plt.barh(fi_df.index, width = fi_df[col])\n",
    "    plt.show()\n",
    "    plt.close()"
   ]
  },
  {
   "cell_type": "code",
   "execution_count": 32,
   "id": "91da168c",
   "metadata": {},
   "outputs": [
    {
     "data": {
      "text/html": [
       "<div>\n",
       "<style scoped>\n",
       "    .dataframe tbody tr th:only-of-type {\n",
       "        vertical-align: middle;\n",
       "    }\n",
       "\n",
       "    .dataframe tbody tr th {\n",
       "        vertical-align: top;\n",
       "    }\n",
       "\n",
       "    .dataframe thead th {\n",
       "        text-align: right;\n",
       "    }\n",
       "</style>\n",
       "<table border=\"1\" class=\"dataframe\">\n",
       "  <thead>\n",
       "    <tr style=\"text-align: right;\">\n",
       "      <th></th>\n",
       "      <th>Sum</th>\n",
       "      <th>Mean</th>\n",
       "      <th>Max</th>\n",
       "      <th>Min</th>\n",
       "    </tr>\n",
       "  </thead>\n",
       "  <tbody>\n",
       "    <tr>\n",
       "      <th>total_tackles_def</th>\n",
       "      <td>0.478547</td>\n",
       "      <td>0.079758</td>\n",
       "      <td>0.090383</td>\n",
       "      <td>0.066837</td>\n",
       "    </tr>\n",
       "    <tr>\n",
       "      <th>sacks_def</th>\n",
       "      <td>0.199360</td>\n",
       "      <td>0.033227</td>\n",
       "      <td>0.044563</td>\n",
       "      <td>0.025662</td>\n",
       "    </tr>\n",
       "    <tr>\n",
       "      <th>passes_defended_def</th>\n",
       "      <td>0.272904</td>\n",
       "      <td>0.045484</td>\n",
       "      <td>0.081433</td>\n",
       "      <td>0.028696</td>\n",
       "    </tr>\n",
       "    <tr>\n",
       "      <th>ints_def</th>\n",
       "      <td>0.243469</td>\n",
       "      <td>0.040578</td>\n",
       "      <td>0.052812</td>\n",
       "      <td>0.028790</td>\n",
       "    </tr>\n",
       "    <tr>\n",
       "      <th>fumbles_lost_fum</th>\n",
       "      <td>0.592341</td>\n",
       "      <td>0.098723</td>\n",
       "      <td>0.161189</td>\n",
       "      <td>0.044010</td>\n",
       "    </tr>\n",
       "    <tr>\n",
       "      <th>td_passes_pass</th>\n",
       "      <td>0.719988</td>\n",
       "      <td>0.119998</td>\n",
       "      <td>0.155300</td>\n",
       "      <td>0.085493</td>\n",
       "    </tr>\n",
       "    <tr>\n",
       "      <th>ints_pass</th>\n",
       "      <td>0.471425</td>\n",
       "      <td>0.078571</td>\n",
       "      <td>0.114793</td>\n",
       "      <td>0.039627</td>\n",
       "    </tr>\n",
       "    <tr>\n",
       "      <th>sacks_pass</th>\n",
       "      <td>0.443281</td>\n",
       "      <td>0.073880</td>\n",
       "      <td>0.139486</td>\n",
       "      <td>0.054282</td>\n",
       "    </tr>\n",
       "    <tr>\n",
       "      <th>receiving_tds_rec</th>\n",
       "      <td>0.357423</td>\n",
       "      <td>0.059570</td>\n",
       "      <td>0.066555</td>\n",
       "      <td>0.053320</td>\n",
       "    </tr>\n",
       "    <tr>\n",
       "      <th>rushing_tds_rush</th>\n",
       "      <td>0.361067</td>\n",
       "      <td>0.060178</td>\n",
       "      <td>0.074377</td>\n",
       "      <td>0.048507</td>\n",
       "    </tr>\n",
       "    <tr>\n",
       "      <th>pass_success_rate</th>\n",
       "      <td>0.874017</td>\n",
       "      <td>0.145669</td>\n",
       "      <td>0.195097</td>\n",
       "      <td>0.081065</td>\n",
       "    </tr>\n",
       "    <tr>\n",
       "      <th>avg_yards_pass</th>\n",
       "      <td>0.285553</td>\n",
       "      <td>0.047592</td>\n",
       "      <td>0.061207</td>\n",
       "      <td>0.028278</td>\n",
       "    </tr>\n",
       "    <tr>\n",
       "      <th>avg_yards_rush</th>\n",
       "      <td>0.284026</td>\n",
       "      <td>0.047338</td>\n",
       "      <td>0.086243</td>\n",
       "      <td>0.017778</td>\n",
       "    </tr>\n",
       "    <tr>\n",
       "      <th>passes_per_rushing_plays</th>\n",
       "      <td>0.416601</td>\n",
       "      <td>0.069433</td>\n",
       "      <td>0.080518</td>\n",
       "      <td>0.053946</td>\n",
       "    </tr>\n",
       "  </tbody>\n",
       "</table>\n",
       "</div>"
      ],
      "text/plain": [
       "                               Sum      Mean       Max       Min\n",
       "total_tackles_def         0.478547  0.079758  0.090383  0.066837\n",
       "sacks_def                 0.199360  0.033227  0.044563  0.025662\n",
       "passes_defended_def       0.272904  0.045484  0.081433  0.028696\n",
       "ints_def                  0.243469  0.040578  0.052812  0.028790\n",
       "fumbles_lost_fum          0.592341  0.098723  0.161189  0.044010\n",
       "td_passes_pass            0.719988  0.119998  0.155300  0.085493\n",
       "ints_pass                 0.471425  0.078571  0.114793  0.039627\n",
       "sacks_pass                0.443281  0.073880  0.139486  0.054282\n",
       "receiving_tds_rec         0.357423  0.059570  0.066555  0.053320\n",
       "rushing_tds_rush          0.361067  0.060178  0.074377  0.048507\n",
       "pass_success_rate         0.874017  0.145669  0.195097  0.081065\n",
       "avg_yards_pass            0.285553  0.047592  0.061207  0.028278\n",
       "avg_yards_rush            0.284026  0.047338  0.086243  0.017778\n",
       "passes_per_rushing_plays  0.416601  0.069433  0.080518  0.053946"
      ]
     },
     "execution_count": 32,
     "metadata": {},
     "output_type": "execute_result"
    }
   ],
   "source": [
    "# Create descriptive statistics for feature importances across models DataFrame\n",
    "fi_stats_df = pd.DataFrame({\"Sum\":fi_df.transpose().sum(),\"Mean\":fi_df.transpose().mean(), \"Max\": fi_df.transpose().max(),\n",
    "             \"Min\": fi_df.transpose().min()}, index = fi_df.index)\n",
    "fi_stats_df\n"
   ]
  },
  {
   "cell_type": "code",
   "execution_count": 33,
   "id": "d0cf52af",
   "metadata": {},
   "outputs": [
    {
     "name": "stdout",
     "output_type": "stream",
     "text": [
      "Sum\n"
     ]
    },
    {
     "data": {
      "image/png": "[encoded data removed]",
      "text/plain": [
       "<Figure size 432x288 with 1 Axes>"
      ]
     },
     "metadata": {
      "needs_background": "light"
     },
     "output_type": "display_data"
    },
    {
     "name": "stdout",
     "output_type": "stream",
     "text": [
      "Mean\n"
     ]
    },
    {
     "data": {
      "image/png": "[encoded data removed]",
      "text/plain": [
       "<Figure size 432x288 with 1 Axes>"
      ]
     },
     "metadata": {
      "needs_background": "light"
     },
     "output_type": "display_data"
    },
    {
     "name": "stdout",
     "output_type": "stream",
     "text": [
      "Max\n"
     ]
    },
    {
     "data": {
      "image/png": "[encoded data removed]",
      "text/plain": [
       "<Figure size 432x288 with 1 Axes>"
      ]
     },
     "metadata": {
      "needs_background": "light"
     },
     "output_type": "display_data"
    },
    {
     "name": "stdout",
     "output_type": "stream",
     "text": [
      "Min\n"
     ]
    },
    {
     "data": {
      "image/png": "[encoded data removed]",
      "text/plain": [
       "<Figure size 432x288 with 1 Axes>"
      ]
     },
     "metadata": {
      "needs_background": "light"
     },
     "output_type": "display_data"
    }
   ],
   "source": [
    "# Plot descriptive statistics of feature importances across models\n",
    "for col in fi_stats_df.columns:\n",
    "    print(col)\n",
    "    plt.figure()\n",
    "    plt.barh(fi_stats_df.index, width = fi_stats_df[col])\n",
    "    plt.show()\n",
    "    plt.close()"
   ]
  },
  {
   "cell_type": "markdown",
   "id": "e539b77f",
   "metadata": {},
   "source": [
    "## Evaluating the statistical difference of features between groups"
   ]
  },
  {
   "cell_type": "code",
   "execution_count": 135,
   "id": "952aa4c0",
   "metadata": {},
   "outputs": [],
   "source": [
    "# Difference of means within groups in naive_rus resample\n",
    "naive_rus_pvalue = {}\n",
    "for i in range(0,(len(X.columns))):\n",
    "    a = X_naive_rus[y_naive_rus == 0,i]\n",
    "    b = X_naive_rus[y_naive_rus == 1,i]\n",
    "    naive_rus_pvalue[f\"{X.columns[i]}\"] = st.ttest_ind(a, b)[1]"
   ]
  },
  {
   "cell_type": "code",
   "execution_count": 136,
   "id": "e42e814a",
   "metadata": {},
   "outputs": [],
   "source": [
    "# Difference of means within groups in naive_ros resample\n",
    "naive_ros_pvalue = {}\n",
    "for i in range(0,(len(X.columns))):\n",
    "    a = X_naive_ros[y_naive_ros == 0,i]\n",
    "    b = X_naive_ros[y_naive_ros == 1,i]\n",
    "    naive_ros_pvalue[f\"{X.columns[i]}\"] = st.ttest_ind(a, b)[1]"
   ]
  },
  {
   "cell_type": "code",
   "execution_count": 137,
   "id": "372c8119",
   "metadata": {},
   "outputs": [],
   "source": [
    "# Difference of means within groups in naive_ros_rus resample\n",
    "naive_ros_rus_pvalue = {}\n",
    "for i in range(0,(len(X.columns))):\n",
    "    a = X_naive_ros_rus[y_naive_ros_rus == 0,i]\n",
    "    b = X_naive_ros_rus[y_naive_ros_rus == 1,i]\n",
    "    naive_ros_rus_pvalue[f\"{X.columns[i]}\"] = st.ttest_ind(a, b)[1]"
   ]
  },
  {
   "cell_type": "code",
   "execution_count": 138,
   "id": "bd96b897",
   "metadata": {},
   "outputs": [],
   "source": [
    "# Difference of means within groups in smote resample\n",
    "smote_pvalue = {}\n",
    "for i in range(0,(len(X.columns))):\n",
    "    a = X_smote[y_smote == 0,i]\n",
    "    b = X_smote[y_smote == 1,i]\n",
    "    smote_pvalue[f\"{X.columns[i]}\"] = st.ttest_ind(a, b)[1]"
   ]
  },
  {
   "cell_type": "code",
   "execution_count": 139,
   "id": "47465491",
   "metadata": {},
   "outputs": [],
   "source": [
    "# Difference of means within groups in smoteenn resample\n",
    "smoteenn_pvalue = {}\n",
    "for i in range(0,(len(X.columns))):\n",
    "    a = X_smoteenn[y_smoteenn == 0,i]\n",
    "    b = X_smoteenn[y_smoteenn == 1,i]\n",
    "    smoteenn_pvalue[f\"{X.columns[i]}\"] = st.ttest_ind(a, b)[1]"
   ]
  },
  {
   "cell_type": "code",
   "execution_count": 183,
   "id": "e358051f",
   "metadata": {},
   "outputs": [
    {
     "data": {
      "text/html": [
       "<div>\n",
       "<style scoped>\n",
       "    .dataframe tbody tr th:only-of-type {\n",
       "        vertical-align: middle;\n",
       "    }\n",
       "\n",
       "    .dataframe tbody tr th {\n",
       "        vertical-align: top;\n",
       "    }\n",
       "\n",
       "    .dataframe thead th {\n",
       "        text-align: right;\n",
       "    }\n",
       "</style>\n",
       "<table border=\"1\" class=\"dataframe\">\n",
       "  <thead>\n",
       "    <tr style=\"text-align: right;\">\n",
       "      <th></th>\n",
       "      <th>naive_ros</th>\n",
       "      <th>naive_rus</th>\n",
       "      <th>naive_ros_rus</th>\n",
       "      <th>smote</th>\n",
       "      <th>smoteenn</th>\n",
       "    </tr>\n",
       "  </thead>\n",
       "  <tbody>\n",
       "    <tr>\n",
       "      <th>total_tackles_def</th>\n",
       "      <td>4.297937e-01</td>\n",
       "      <td>0.404867</td>\n",
       "      <td>6.401453e-01</td>\n",
       "      <td>6.405916e-01</td>\n",
       "      <td>1.311684e-01</td>\n",
       "    </tr>\n",
       "    <tr>\n",
       "      <th>sacks_def</th>\n",
       "      <td>1.342621e-02</td>\n",
       "      <td>0.531182</td>\n",
       "      <td>1.851426e-03</td>\n",
       "      <td>2.822726e-02</td>\n",
       "      <td>7.741333e-04</td>\n",
       "    </tr>\n",
       "    <tr>\n",
       "      <th>passes_defended_def</th>\n",
       "      <td>5.719424e-05</td>\n",
       "      <td>0.168430</td>\n",
       "      <td>1.156643e-03</td>\n",
       "      <td>7.164529e-04</td>\n",
       "      <td>2.167999e-04</td>\n",
       "    </tr>\n",
       "    <tr>\n",
       "      <th>ints_def</th>\n",
       "      <td>6.442915e-01</td>\n",
       "      <td>0.462083</td>\n",
       "      <td>7.236085e-01</td>\n",
       "      <td>6.053698e-01</td>\n",
       "      <td>6.033608e-01</td>\n",
       "    </tr>\n",
       "    <tr>\n",
       "      <th>fumbles_lost_fum</th>\n",
       "      <td>1.574084e-08</td>\n",
       "      <td>0.397873</td>\n",
       "      <td>2.859805e-06</td>\n",
       "      <td>1.142393e-07</td>\n",
       "      <td>7.657682e-08</td>\n",
       "    </tr>\n",
       "    <tr>\n",
       "      <th>td_passes_pass</th>\n",
       "      <td>2.348110e-23</td>\n",
       "      <td>0.158413</td>\n",
       "      <td>1.239059e-13</td>\n",
       "      <td>1.565929e-28</td>\n",
       "      <td>1.828960e-39</td>\n",
       "    </tr>\n",
       "    <tr>\n",
       "      <th>ints_pass</th>\n",
       "      <td>4.859906e-08</td>\n",
       "      <td>0.506614</td>\n",
       "      <td>1.646673e-03</td>\n",
       "      <td>9.953087e-14</td>\n",
       "      <td>7.316565e-17</td>\n",
       "    </tr>\n",
       "    <tr>\n",
       "      <th>sacks_pass</th>\n",
       "      <td>1.369724e-07</td>\n",
       "      <td>0.069719</td>\n",
       "      <td>5.393136e-05</td>\n",
       "      <td>2.085163e-11</td>\n",
       "      <td>1.680636e-13</td>\n",
       "    </tr>\n",
       "    <tr>\n",
       "      <th>receiving_tds_rec</th>\n",
       "      <td>9.818978e-03</td>\n",
       "      <td>0.581840</td>\n",
       "      <td>4.735444e-02</td>\n",
       "      <td>4.508128e-02</td>\n",
       "      <td>9.198237e-05</td>\n",
       "    </tr>\n",
       "    <tr>\n",
       "      <th>rushing_tds_rush</th>\n",
       "      <td>1.067047e-10</td>\n",
       "      <td>0.168697</td>\n",
       "      <td>9.446837e-06</td>\n",
       "      <td>8.074879e-15</td>\n",
       "      <td>1.289607e-22</td>\n",
       "    </tr>\n",
       "    <tr>\n",
       "      <th>pass_success_rate</th>\n",
       "      <td>1.590456e-19</td>\n",
       "      <td>0.308956</td>\n",
       "      <td>9.183622e-12</td>\n",
       "      <td>3.271430e-18</td>\n",
       "      <td>4.708959e-26</td>\n",
       "    </tr>\n",
       "    <tr>\n",
       "      <th>avg_yards_pass</th>\n",
       "      <td>5.639419e-02</td>\n",
       "      <td>0.298359</td>\n",
       "      <td>3.084740e-01</td>\n",
       "      <td>6.766389e-02</td>\n",
       "      <td>7.714439e-02</td>\n",
       "    </tr>\n",
       "    <tr>\n",
       "      <th>avg_yards_rush</th>\n",
       "      <td>8.883984e-03</td>\n",
       "      <td>0.357889</td>\n",
       "      <td>2.092103e-01</td>\n",
       "      <td>2.300381e-02</td>\n",
       "      <td>5.209072e-02</td>\n",
       "    </tr>\n",
       "    <tr>\n",
       "      <th>passes_per_rushing_plays</th>\n",
       "      <td>2.685374e-04</td>\n",
       "      <td>0.476283</td>\n",
       "      <td>1.008639e-02</td>\n",
       "      <td>2.609522e-04</td>\n",
       "      <td>7.091583e-05</td>\n",
       "    </tr>\n",
       "  </tbody>\n",
       "</table>\n",
       "</div>"
      ],
      "text/plain": [
       "                             naive_ros  naive_rus  naive_ros_rus  \\\n",
       "total_tackles_def         4.297937e-01   0.404867   6.401453e-01   \n",
       "sacks_def                 1.342621e-02   0.531182   1.851426e-03   \n",
       "passes_defended_def       5.719424e-05   0.168430   1.156643e-03   \n",
       "ints_def                  6.442915e-01   0.462083   7.236085e-01   \n",
       "fumbles_lost_fum          1.574084e-08   0.397873   2.859805e-06   \n",
       "td_passes_pass            2.348110e-23   0.158413   1.239059e-13   \n",
       "ints_pass                 4.859906e-08   0.506614   1.646673e-03   \n",
       "sacks_pass                1.369724e-07   0.069719   5.393136e-05   \n",
       "receiving_tds_rec         9.818978e-03   0.581840   4.735444e-02   \n",
       "rushing_tds_rush          1.067047e-10   0.168697   9.446837e-06   \n",
       "pass_success_rate         1.590456e-19   0.308956   9.183622e-12   \n",
       "avg_yards_pass            5.639419e-02   0.298359   3.084740e-01   \n",
       "avg_yards_rush            8.883984e-03   0.357889   2.092103e-01   \n",
       "passes_per_rushing_plays  2.685374e-04   0.476283   1.008639e-02   \n",
       "\n",
       "                                 smote      smoteenn  \n",
       "total_tackles_def         6.405916e-01  1.311684e-01  \n",
       "sacks_def                 2.822726e-02  7.741333e-04  \n",
       "passes_defended_def       7.164529e-04  2.167999e-04  \n",
       "ints_def                  6.053698e-01  6.033608e-01  \n",
       "fumbles_lost_fum          1.142393e-07  7.657682e-08  \n",
       "td_passes_pass            1.565929e-28  1.828960e-39  \n",
       "ints_pass                 9.953087e-14  7.316565e-17  \n",
       "sacks_pass                2.085163e-11  1.680636e-13  \n",
       "receiving_tds_rec         4.508128e-02  9.198237e-05  \n",
       "rushing_tds_rush          8.074879e-15  1.289607e-22  \n",
       "pass_success_rate         3.271430e-18  4.708959e-26  \n",
       "avg_yards_pass            6.766389e-02  7.714439e-02  \n",
       "avg_yards_rush            2.300381e-02  5.209072e-02  \n",
       "passes_per_rushing_plays  2.609522e-04  7.091583e-05  "
      ]
     },
     "execution_count": 183,
     "metadata": {},
     "output_type": "execute_result"
    }
   ],
   "source": [
    "# Create DataFrame of Pvalues\n",
    "pvalues_df = pd.DataFrame([naive_ros_pvalue, naive_rus_pvalue, naive_ros_rus_pvalue, smote_pvalue, smoteenn_pvalue],\n",
    "                         index = [\"naive_ros\", \"naive_rus\", \"naive_ros_rus\", \"smote\", \"smoteenn\"]).transpose()\n",
    "pvalues_df"
   ]
  },
  {
   "cell_type": "code",
   "execution_count": 193,
   "id": "8e76c1e6",
   "metadata": {},
   "outputs": [
    {
     "data": {
      "text/plain": [
       "total_tackles_def           0\n",
       "sacks_def                   4\n",
       "passes_defended_def         4\n",
       "ints_def                    0\n",
       "fumbles_lost_fum            4\n",
       "td_passes_pass              4\n",
       "ints_pass                   4\n",
       "sacks_pass                  4\n",
       "receiving_tds_rec           4\n",
       "rushing_tds_rush            4\n",
       "pass_success_rate           4\n",
       "avg_yards_pass              0\n",
       "avg_yards_rush              2\n",
       "passes_per_rushing_plays    4\n",
       "dtype: int64"
      ]
     },
     "execution_count": 193,
     "metadata": {},
     "output_type": "execute_result"
    }
   ],
   "source": [
    "# Check significance of features with criterio of pvalue<.05\n",
    "pvalues_df[pvalues_df<.05].transpose().count()"
   ]
  },
  {
   "cell_type": "code",
   "execution_count": 194,
   "id": "3cee943a",
   "metadata": {},
   "outputs": [
    {
     "data": {
      "image/png": "[encoded data removed]",
      "text/plain": [
       "<Figure size 432x288 with 1 Axes>"
      ]
     },
     "metadata": {
      "needs_background": "light"
     },
     "output_type": "display_data"
    }
   ],
   "source": [
    "# Plot count of significance of pvalues across resamples\n",
    "plt.figure()\n",
    "plt.barh(pvalues_df.index, width = pvalues_df[pvalues_df<.05].transpose().count())\n",
    "plt.show()\n",
    "plt.close()"
   ]
  },
  {
   "cell_type": "markdown",
   "id": "77d69c3a",
   "metadata": {},
   "source": [
    "# Conclusions of first iteration"
   ]
  },
  {
   "cell_type": "markdown",
   "id": "076628f4",
   "metadata": {},
   "source": [
    "## Models:"
   ]
  },
  {
   "cell_type": "markdown",
   "id": "1f54830d",
   "metadata": {},
   "source": [
    "### All three models (Logistic Regression, Random Forest, and Balanced Random Forest) where unable to accurately predict the minority class (Champion = 1), even across mutiple random resampling techniques (naive under and over sampling, smote, and smoteenn). Some instances did achieve the accuracy of around 50% but did so at the expense of a considerable loss in accuracy for the majority class (Champion = 0). It might be the case that the features are non-informative. In this regard, we proceeded to feature importance evaluation. "
   ]
  },
  {
   "cell_type": "markdown",
   "id": "7ff973b9",
   "metadata": {},
   "source": [
    "## Feature importance:"
   ]
  },
  {
   "cell_type": "markdown",
   "id": "7b46544e",
   "metadata": {},
   "source": [
    "### There was no observable consensus across model and random resampling combinations as to feature importances. It might be the case that non-informative features are introducing noise into the models and therefore into the estimation of feature importance. In this regard, we proceed to evaluate the features with a different approach, we calculated t-tests to see which features have statistically different means between the majority (Champion = 0) and minority (Champion = 1) classes."
   ]
  },
  {
   "cell_type": "markdown",
   "id": "4eb4dd73",
   "metadata": {},
   "source": [
    "## T-tests:"
   ]
  },
  {
   "cell_type": "markdown",
   "id": "e4c6bd68",
   "metadata": {},
   "source": [
    "### T-tests were peformed for all features across random resamples. T-tests for the naive random undersample showed that no feature showed a statistical difference of means between classes. This is not surprising as the naive undersampling severely reduced the amount of observations. On the other hand, there was a consensus among the other resampling techniques as to which features serve, in terms of means, to differentiate between classes."
   ]
  },
  {
   "cell_type": "markdown",
   "id": "2cf36013",
   "metadata": {},
   "source": [
    "## Veredict:"
   ]
  },
  {
   "cell_type": "markdown",
   "id": "8a71b77a",
   "metadata": {},
   "source": [
    "### As informed by all of the above, a second iteration of all estimations will be performed without the following features: \"avg_yards_rush\", \"avg_yards_pass\", \"ints_def\", \"total_tackles_def\"."
   ]
  },
  {
   "cell_type": "code",
   "execution_count": null,
   "id": "036a35c8",
   "metadata": {},
   "outputs": [],
   "source": []
  }
 ],
 "metadata": {
  "kernelspec": {
   "display_name": "mlenv",
   "language": "python",
   "name": "mlenv"
  },
  "language_info": {
   "codemirror_mode": {
    "name": "ipython",
    "version": 3
   },
   "file_extension": ".py",
   "mimetype": "text/x-python",
   "name": "python",
   "nbconvert_exporter": "python",
   "pygments_lexer": "ipython3",
   "version": "3.7.11"
  }
 },
 "nbformat": 4,
 "nbformat_minor": 5
}
