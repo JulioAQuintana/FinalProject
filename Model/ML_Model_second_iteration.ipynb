{
 "cells": [
  {
   "cell_type": "code",
   "execution_count": 1,
   "id": "7ac5330e",
   "metadata": {},
   "outputs": [],
   "source": [
    "#import required libraries\n",
    "import pandas as pd\n",
    "import numpy as np\n",
    "import matplotlib.pyplot as plt\n",
    "from sklearn.feature_selection import chi2, f_classif, mutual_info_classif\n",
    "from itertools import combinations\n",
    "from scipy import stats as st\n",
    "import numpy as np"
   ]
  },
  {
   "cell_type": "code",
   "execution_count": 2,
   "id": "ab7925b0",
   "metadata": {},
   "outputs": [],
   "source": [
    "# Machine learning model libraries \n",
    "from sklearn.model_selection import train_test_split\n",
    "from sklearn.ensemble import RandomForestClassifier\n",
    "from sklearn.metrics import confusion_matrix, accuracy_score, classification_report\n",
    "from sklearn.preprocessing import StandardScaler\n",
    "from sklearn.decomposition import PCA\n",
    "from sklearn.linear_model import LogisticRegression\n",
    "from imblearn.over_sampling import RandomOverSampler, SMOTE, BorderlineSMOTE\n",
    "from imblearn.under_sampling import RandomUnderSampler\n",
    "from imblearn.combine import SMOTEENN\n",
    "from imblearn.ensemble import BalancedRandomForestClassifier"
   ]
  },
  {
   "cell_type": "code",
   "execution_count": 3,
   "id": "54689f4d",
   "metadata": {},
   "outputs": [
    {
     "data": {
      "text/html": [
       "<div>\n",
       "<style scoped>\n",
       "    .dataframe tbody tr th:only-of-type {\n",
       "        vertical-align: middle;\n",
       "    }\n",
       "\n",
       "    .dataframe tbody tr th {\n",
       "        vertical-align: top;\n",
       "    }\n",
       "\n",
       "    .dataframe thead th {\n",
       "        text-align: right;\n",
       "    }\n",
       "</style>\n",
       "<table border=\"1\" class=\"dataframe\">\n",
       "  <thead>\n",
       "    <tr style=\"text-align: right;\">\n",
       "      <th></th>\n",
       "      <th>Unnamed: 0</th>\n",
       "      <th>total_tackles_def</th>\n",
       "      <th>sacks_def</th>\n",
       "      <th>safties_def</th>\n",
       "      <th>passes_defended_def</th>\n",
       "      <th>ints_def</th>\n",
       "      <th>fumbles_lost_fum</th>\n",
       "      <th>td_passes_pass</th>\n",
       "      <th>ints_pass</th>\n",
       "      <th>sacks_pass</th>\n",
       "      <th>...</th>\n",
       "      <th>year</th>\n",
       "      <th>team</th>\n",
       "      <th>fg_success_rate</th>\n",
       "      <th>extra_success_rate</th>\n",
       "      <th>pass_success_rate</th>\n",
       "      <th>avg_yards_pass</th>\n",
       "      <th>avg_yards_rush</th>\n",
       "      <th>kicks_blocked</th>\n",
       "      <th>passes_per_rushing_plays</th>\n",
       "      <th>Champion</th>\n",
       "    </tr>\n",
       "    <tr>\n",
       "      <th>team_year</th>\n",
       "      <th></th>\n",
       "      <th></th>\n",
       "      <th></th>\n",
       "      <th></th>\n",
       "      <th></th>\n",
       "      <th></th>\n",
       "      <th></th>\n",
       "      <th></th>\n",
       "      <th></th>\n",
       "      <th></th>\n",
       "      <th></th>\n",
       "      <th></th>\n",
       "      <th></th>\n",
       "      <th></th>\n",
       "      <th></th>\n",
       "      <th></th>\n",
       "      <th></th>\n",
       "      <th></th>\n",
       "      <th></th>\n",
       "      <th></th>\n",
       "      <th></th>\n",
       "    </tr>\n",
       "  </thead>\n",
       "  <tbody>\n",
       "    <tr>\n",
       "      <th>arizona_cardinals_2001</th>\n",
       "      <td>0</td>\n",
       "      <td>670</td>\n",
       "      <td>5</td>\n",
       "      <td>0</td>\n",
       "      <td>29</td>\n",
       "      <td>13</td>\n",
       "      <td>7.0</td>\n",
       "      <td>0.0</td>\n",
       "      <td>0.0</td>\n",
       "      <td>0.0</td>\n",
       "      <td>...</td>\n",
       "      <td>2001</td>\n",
       "      <td>arizona_cardinals</td>\n",
       "      <td>0.833333</td>\n",
       "      <td>1.0</td>\n",
       "      <td>0.000000</td>\n",
       "      <td>10.715232</td>\n",
       "      <td>3.546939</td>\n",
       "      <td>0.0</td>\n",
       "      <td>0.004082</td>\n",
       "      <td>0.0</td>\n",
       "    </tr>\n",
       "    <tr>\n",
       "      <th>arizona_cardinals_2002</th>\n",
       "      <td>1</td>\n",
       "      <td>547</td>\n",
       "      <td>12</td>\n",
       "      <td>0</td>\n",
       "      <td>24</td>\n",
       "      <td>7</td>\n",
       "      <td>1.0</td>\n",
       "      <td>0.0</td>\n",
       "      <td>2.0</td>\n",
       "      <td>5.0</td>\n",
       "      <td>...</td>\n",
       "      <td>2002</td>\n",
       "      <td>arizona_cardinals</td>\n",
       "      <td>0.000000</td>\n",
       "      <td>0.0</td>\n",
       "      <td>0.388889</td>\n",
       "      <td>11.470588</td>\n",
       "      <td>4.256410</td>\n",
       "      <td>0.0</td>\n",
       "      <td>0.461538</td>\n",
       "      <td>0.0</td>\n",
       "    </tr>\n",
       "    <tr>\n",
       "      <th>arizona_cardinals_2003</th>\n",
       "      <td>2</td>\n",
       "      <td>548</td>\n",
       "      <td>15</td>\n",
       "      <td>0</td>\n",
       "      <td>35</td>\n",
       "      <td>8</td>\n",
       "      <td>7.0</td>\n",
       "      <td>5.0</td>\n",
       "      <td>7.0</td>\n",
       "      <td>25.0</td>\n",
       "      <td>...</td>\n",
       "      <td>2003</td>\n",
       "      <td>arizona_cardinals</td>\n",
       "      <td>0.750000</td>\n",
       "      <td>1.0</td>\n",
       "      <td>0.568862</td>\n",
       "      <td>12.957831</td>\n",
       "      <td>4.943396</td>\n",
       "      <td>0.0</td>\n",
       "      <td>3.150943</td>\n",
       "      <td>0.0</td>\n",
       "    </tr>\n",
       "    <tr>\n",
       "      <th>arizona_cardinals_2004</th>\n",
       "      <td>3</td>\n",
       "      <td>511</td>\n",
       "      <td>16</td>\n",
       "      <td>0</td>\n",
       "      <td>43</td>\n",
       "      <td>7</td>\n",
       "      <td>7.0</td>\n",
       "      <td>13.0</td>\n",
       "      <td>18.0</td>\n",
       "      <td>39.0</td>\n",
       "      <td>...</td>\n",
       "      <td>2004</td>\n",
       "      <td>arizona_cardinals</td>\n",
       "      <td>0.758621</td>\n",
       "      <td>1.0</td>\n",
       "      <td>0.560150</td>\n",
       "      <td>11.369231</td>\n",
       "      <td>3.585034</td>\n",
       "      <td>0.0</td>\n",
       "      <td>3.619048</td>\n",
       "      <td>0.0</td>\n",
       "    </tr>\n",
       "    <tr>\n",
       "      <th>arizona_cardinals_2005</th>\n",
       "      <td>4</td>\n",
       "      <td>483</td>\n",
       "      <td>19</td>\n",
       "      <td>0</td>\n",
       "      <td>27</td>\n",
       "      <td>9</td>\n",
       "      <td>11.0</td>\n",
       "      <td>21.0</td>\n",
       "      <td>21.0</td>\n",
       "      <td>45.0</td>\n",
       "      <td>...</td>\n",
       "      <td>2005</td>\n",
       "      <td>arizona_cardinals</td>\n",
       "      <td>0.955556</td>\n",
       "      <td>1.0</td>\n",
       "      <td>0.625373</td>\n",
       "      <td>12.421053</td>\n",
       "      <td>3.541436</td>\n",
       "      <td>0.0</td>\n",
       "      <td>3.701657</td>\n",
       "      <td>0.0</td>\n",
       "    </tr>\n",
       "  </tbody>\n",
       "</table>\n",
       "<p>5 rows × 22 columns</p>\n",
       "</div>"
      ],
      "text/plain": [
       "                        Unnamed: 0  total_tackles_def  sacks_def  safties_def  \\\n",
       "team_year                                                                       \n",
       "arizona_cardinals_2001           0                670          5            0   \n",
       "arizona_cardinals_2002           1                547         12            0   \n",
       "arizona_cardinals_2003           2                548         15            0   \n",
       "arizona_cardinals_2004           3                511         16            0   \n",
       "arizona_cardinals_2005           4                483         19            0   \n",
       "\n",
       "                        passes_defended_def  ints_def  fumbles_lost_fum  \\\n",
       "team_year                                                                 \n",
       "arizona_cardinals_2001                   29        13               7.0   \n",
       "arizona_cardinals_2002                   24         7               1.0   \n",
       "arizona_cardinals_2003                   35         8               7.0   \n",
       "arizona_cardinals_2004                   43         7               7.0   \n",
       "arizona_cardinals_2005                   27         9              11.0   \n",
       "\n",
       "                        td_passes_pass  ints_pass  sacks_pass  ...  year  \\\n",
       "team_year                                                      ...         \n",
       "arizona_cardinals_2001             0.0        0.0         0.0  ...  2001   \n",
       "arizona_cardinals_2002             0.0        2.0         5.0  ...  2002   \n",
       "arizona_cardinals_2003             5.0        7.0        25.0  ...  2003   \n",
       "arizona_cardinals_2004            13.0       18.0        39.0  ...  2004   \n",
       "arizona_cardinals_2005            21.0       21.0        45.0  ...  2005   \n",
       "\n",
       "                                     team  fg_success_rate extra_success_rate  \\\n",
       "team_year                                                                       \n",
       "arizona_cardinals_2001  arizona_cardinals         0.833333                1.0   \n",
       "arizona_cardinals_2002  arizona_cardinals         0.000000                0.0   \n",
       "arizona_cardinals_2003  arizona_cardinals         0.750000                1.0   \n",
       "arizona_cardinals_2004  arizona_cardinals         0.758621                1.0   \n",
       "arizona_cardinals_2005  arizona_cardinals         0.955556                1.0   \n",
       "\n",
       "                        pass_success_rate  avg_yards_pass  avg_yards_rush  \\\n",
       "team_year                                                                   \n",
       "arizona_cardinals_2001           0.000000       10.715232        3.546939   \n",
       "arizona_cardinals_2002           0.388889       11.470588        4.256410   \n",
       "arizona_cardinals_2003           0.568862       12.957831        4.943396   \n",
       "arizona_cardinals_2004           0.560150       11.369231        3.585034   \n",
       "arizona_cardinals_2005           0.625373       12.421053        3.541436   \n",
       "\n",
       "                        kicks_blocked  passes_per_rushing_plays  Champion  \n",
       "team_year                                                                  \n",
       "arizona_cardinals_2001            0.0                  0.004082       0.0  \n",
       "arizona_cardinals_2002            0.0                  0.461538       0.0  \n",
       "arizona_cardinals_2003            0.0                  3.150943       0.0  \n",
       "arizona_cardinals_2004            0.0                  3.619048       0.0  \n",
       "arizona_cardinals_2005            0.0                  3.701657       0.0  \n",
       "\n",
       "[5 rows x 22 columns]"
      ]
     },
     "execution_count": 3,
     "metadata": {},
     "output_type": "execute_result"
    }
   ],
   "source": [
    "# Import Dataset\n",
    "df = pd.read_csv(\"../Resources/sb_champion_stats.csv\", index_col = 1)\n",
    "df.head()"
   ]
  },
  {
   "cell_type": "code",
   "execution_count": 4,
   "id": "36b7278a",
   "metadata": {},
   "outputs": [
    {
     "data": {
      "text/plain": [
       "(511, 11)"
      ]
     },
     "execution_count": 4,
     "metadata": {},
     "output_type": "execute_result"
    }
   ],
   "source": [
    "# Drop Columns \n",
    "df = df.drop([\"year\", \"team\", \"Unnamed: 0\", \"extra_success_rate\", \"fg_success_rate\", \"kicks_blocked\", \n",
    "             \"safties_def\", \"avg_yards_rush\", \"avg_yards_pass\", \"ints_def\", \"total_tackles_def\"], axis = 1)\n",
    "df.shape"
   ]
  },
  {
   "cell_type": "code",
   "execution_count": 5,
   "id": "f96ebeb7",
   "metadata": {},
   "outputs": [],
   "source": [
    "X = df.drop(\"Champion\", axis = 1)\n",
    "y = df[\"Champion\"]"
   ]
  },
  {
   "cell_type": "markdown",
   "id": "a01d70bb",
   "metadata": {},
   "source": [
    "# Scaling Features"
   ]
  },
  {
   "cell_type": "code",
   "execution_count": 6,
   "id": "4e159634",
   "metadata": {},
   "outputs": [],
   "source": [
    "# Generate Scaler instance and scale the data\n",
    "X_scaled = StandardScaler().fit_transform(X)"
   ]
  },
  {
   "cell_type": "markdown",
   "id": "ad101595",
   "metadata": {},
   "source": [
    "# Adressing Target Variable Imbalance"
   ]
  },
  {
   "cell_type": "markdown",
   "id": "9e04e532",
   "metadata": {},
   "source": [
    "## Target variable imbalance needs to be addressed to avoid overfitting"
   ]
  },
  {
   "cell_type": "code",
   "execution_count": 7,
   "id": "ef54c5d3",
   "metadata": {},
   "outputs": [
    {
     "data": {
      "text/plain": [
       "0.0    495\n",
       "1.0     16\n",
       "Name: Champion, dtype: int64"
      ]
     },
     "execution_count": 7,
     "metadata": {},
     "output_type": "execute_result"
    }
   ],
   "source": [
    "# Value counts for target variable shows a minority:majority class ratio of about 1:30\n",
    "y.value_counts()"
   ]
  },
  {
   "cell_type": "code",
   "execution_count": 8,
   "id": "ab74ad14",
   "metadata": {},
   "outputs": [],
   "source": [
    "# Prior to addressing the issue, we must split dataset into training and testing\n",
    "X_train, X_test, y_train, y_test = train_test_split(X_scaled, y, random_state=1)"
   ]
  },
  {
   "cell_type": "markdown",
   "id": "57a26918",
   "metadata": {},
   "source": [
    "## Naive random over and under sampling"
   ]
  },
  {
   "cell_type": "code",
   "execution_count": 9,
   "id": "96d196fe",
   "metadata": {},
   "outputs": [],
   "source": [
    "# Naive under sampling will randomly reduce the amount of observations in the majority class to balance outcomes\n",
    "naive_rus = RandomUnderSampler(random_state=1)\n",
    "X_naive_rus, y_naive_rus = naive_rus.fit_resample(X_train, y_train)"
   ]
  },
  {
   "cell_type": "code",
   "execution_count": 10,
   "id": "18ee4b58",
   "metadata": {},
   "outputs": [
    {
     "data": {
      "text/plain": [
       "0.0    10\n",
       "1.0    10\n",
       "Name: Champion, dtype: int64"
      ]
     },
     "execution_count": 10,
     "metadata": {},
     "output_type": "execute_result"
    }
   ],
   "source": [
    "# Show results\n",
    "y_naive_rus.value_counts()"
   ]
  },
  {
   "cell_type": "code",
   "execution_count": 11,
   "id": "f62d9245",
   "metadata": {},
   "outputs": [],
   "source": [
    "# Naive over sampling will randomly generate new minority class observations to balance outcomes\n",
    "naive_ros = RandomOverSampler(random_state=1)\n",
    "X_naive_ros, y_naive_ros = naive_ros.fit_resample(X_train, y_train)"
   ]
  },
  {
   "cell_type": "code",
   "execution_count": 12,
   "id": "2f86b79c",
   "metadata": {},
   "outputs": [
    {
     "data": {
      "text/plain": [
       "0.0    373\n",
       "1.0    373\n",
       "Name: Champion, dtype: int64"
      ]
     },
     "execution_count": 12,
     "metadata": {},
     "output_type": "execute_result"
    }
   ],
   "source": [
    "# Show results\n",
    "y_naive_ros.value_counts()"
   ]
  },
  {
   "cell_type": "code",
   "execution_count": 13,
   "id": "fdf1be18",
   "metadata": {},
   "outputs": [],
   "source": [
    "# We may also apply both sequentially and set the sampling strategy parameter to balance out the outcomes\n",
    "naive_ros_2 = RandomOverSampler(random_state=1, sampling_strategy=.5)\n",
    "X_naive_ros_2, y_naive_ros_2 = naive_ros_2.fit_resample(X_train, y_train)\n",
    "\n",
    "naive_rus_2 = RandomUnderSampler(random_state=1)\n",
    "X_naive_ros_rus, y_naive_ros_rus = naive_rus_2.fit_resample(X_naive_ros_2, y_naive_ros_2)"
   ]
  },
  {
   "cell_type": "code",
   "execution_count": 14,
   "id": "0070521e",
   "metadata": {},
   "outputs": [
    {
     "data": {
      "text/plain": [
       "0.0    186\n",
       "1.0    186\n",
       "Name: Champion, dtype: int64"
      ]
     },
     "execution_count": 14,
     "metadata": {},
     "output_type": "execute_result"
    }
   ],
   "source": [
    "# Show Results\n",
    "y_naive_ros_rus.value_counts()"
   ]
  },
  {
   "cell_type": "markdown",
   "id": "f418795d",
   "metadata": {},
   "source": [
    "## SMOTE oversampling"
   ]
  },
  {
   "cell_type": "code",
   "execution_count": 15,
   "id": "2d88ef5e",
   "metadata": {},
   "outputs": [],
   "source": [
    "# Smote oversampling will create synthetic new observations similar to the minority class to balance outcomes\n",
    "smote = SMOTE(random_state=1)\n",
    "X_smote, y_smote = smote.fit_resample(X_train, y_train)"
   ]
  },
  {
   "cell_type": "code",
   "execution_count": 16,
   "id": "c2a3e9ea",
   "metadata": {},
   "outputs": [
    {
     "data": {
      "text/plain": [
       "0.0    373\n",
       "1.0    373\n",
       "Name: Champion, dtype: int64"
      ]
     },
     "execution_count": 16,
     "metadata": {},
     "output_type": "execute_result"
    }
   ],
   "source": [
    "# Show results\n",
    "y_smote.value_counts()"
   ]
  },
  {
   "cell_type": "markdown",
   "id": "8cf4253c",
   "metadata": {},
   "source": [
    "## Combination sampling: SMOTEENN"
   ]
  },
  {
   "cell_type": "code",
   "execution_count": 17,
   "id": "429add7f",
   "metadata": {},
   "outputs": [],
   "source": [
    "# Smoteenn will balance outcomes by utilizing both over and under sampling methods\n",
    "smoteenn = SMOTEENN(random_state=1)\n",
    "X_smoteenn, y_smoteenn = smoteenn.fit_resample(X_train, y_train)"
   ]
  },
  {
   "cell_type": "code",
   "execution_count": 18,
   "id": "af526231",
   "metadata": {},
   "outputs": [
    {
     "data": {
      "text/plain": [
       "1.0    368\n",
       "0.0    291\n",
       "Name: Champion, dtype: int64"
      ]
     },
     "execution_count": 18,
     "metadata": {},
     "output_type": "execute_result"
    }
   ],
   "source": [
    "# Show results\n",
    "y_smoteenn.value_counts()"
   ]
  },
  {
   "cell_type": "markdown",
   "id": "5563b4f6",
   "metadata": {},
   "source": [
    "# Supervised Learning Models: Second Iteration (reduced features)"
   ]
  },
  {
   "cell_type": "markdown",
   "id": "d6f64c27",
   "metadata": {},
   "source": [
    "## Logistic Regression"
   ]
  },
  {
   "cell_type": "code",
   "execution_count": 19,
   "id": "0b6c5c91",
   "metadata": {},
   "outputs": [],
   "source": [
    "# Generate model instance\n",
    "lr_model = LogisticRegression(solver='lbfgs', random_state=1)"
   ]
  },
  {
   "cell_type": "code",
   "execution_count": 20,
   "id": "7f74467c",
   "metadata": {},
   "outputs": [],
   "source": [
    "# Fit on resampled features and predict\n",
    "\n",
    "## Naive random undersample\n",
    "lr_model.fit(X_naive_rus, y_naive_rus)\n",
    "y_lr_naive_rus = lr_model.predict(X_test)\n",
    "\n",
    "## Naive random oversample\n",
    "lr_model.fit(X_naive_ros, y_naive_ros)\n",
    "y_lr_naive_ros = lr_model.predict(X_test)\n",
    "\n",
    "## Naive ros rus\n",
    "lr_model.fit(X_naive_ros_rus, y_naive_ros_rus)\n",
    "y_lr_naive_ros_rus = lr_model.predict(X_test)\n",
    "\n",
    "## SMOTE\n",
    "lr_model.fit(X_smote, y_smote)\n",
    "y_lr_smote = lr_model.predict(X_test)\n",
    "\n",
    "## SMOTEENN\n",
    "lr_model.fit(X_smoteenn, y_smoteenn)\n",
    "y_lr_smoteenn = lr_model.predict(X_test)"
   ]
  },
  {
   "cell_type": "code",
   "execution_count": 21,
   "id": "a30f3b8c",
   "metadata": {},
   "outputs": [
    {
     "name": "stdout",
     "output_type": "stream",
     "text": [
      "0.5625\n",
      "[[68 54]\n",
      " [ 2  4]]\n",
      "              precision    recall  f1-score   support\n",
      "\n",
      "         0.0       0.97      0.56      0.71       122\n",
      "         1.0       0.07      0.67      0.12         6\n",
      "\n",
      "    accuracy                           0.56       128\n",
      "   macro avg       0.52      0.61      0.42       128\n",
      "weighted avg       0.93      0.56      0.68       128\n",
      "\n",
      " \n",
      "0.734375\n",
      "[[93 29]\n",
      " [ 5  1]]\n",
      "              precision    recall  f1-score   support\n",
      "\n",
      "         0.0       0.95      0.76      0.85       122\n",
      "         1.0       0.03      0.17      0.06         6\n",
      "\n",
      "    accuracy                           0.73       128\n",
      "   macro avg       0.49      0.46      0.45       128\n",
      "weighted avg       0.91      0.73      0.81       128\n",
      "\n",
      " \n",
      "0.734375\n",
      "[[92 30]\n",
      " [ 4  2]]\n",
      "              precision    recall  f1-score   support\n",
      "\n",
      "         0.0       0.96      0.75      0.84       122\n",
      "         1.0       0.06      0.33      0.11         6\n",
      "\n",
      "    accuracy                           0.73       128\n",
      "   macro avg       0.51      0.54      0.47       128\n",
      "weighted avg       0.92      0.73      0.81       128\n",
      "\n",
      " \n",
      "0.75\n",
      "[[95 27]\n",
      " [ 5  1]]\n",
      "              precision    recall  f1-score   support\n",
      "\n",
      "         0.0       0.95      0.78      0.86       122\n",
      "         1.0       0.04      0.17      0.06         6\n",
      "\n",
      "    accuracy                           0.75       128\n",
      "   macro avg       0.49      0.47      0.46       128\n",
      "weighted avg       0.91      0.75      0.82       128\n",
      "\n",
      " \n",
      "0.6953125\n",
      "[[88 34]\n",
      " [ 5  1]]\n",
      "              precision    recall  f1-score   support\n",
      "\n",
      "         0.0       0.95      0.72      0.82       122\n",
      "         1.0       0.03      0.17      0.05         6\n",
      "\n",
      "    accuracy                           0.70       128\n",
      "   macro avg       0.49      0.44      0.43       128\n",
      "weighted avg       0.90      0.70      0.78       128\n",
      "\n",
      " \n"
     ]
    }
   ],
   "source": [
    "# Display results\n",
    "\n",
    "## Confusion Matrix, Accuracy Score and Classification Report\n",
    "for x in [y_lr_naive_rus, y_lr_naive_ros, y_lr_naive_ros_rus, y_lr_smote, y_lr_smoteenn]:\n",
    "    print(accuracy_score(y_test, x))\n",
    "    print(confusion_matrix(y_test, x))\n",
    "    print(classification_report(y_test, x))\n",
    "    print(\" \")"
   ]
  },
  {
   "cell_type": "markdown",
   "id": "eff4a96f",
   "metadata": {},
   "source": [
    "## Random Forest Classifier"
   ]
  },
  {
   "cell_type": "code",
   "execution_count": 22,
   "id": "0bb40caa",
   "metadata": {},
   "outputs": [],
   "source": [
    "# Generate model instance\n",
    "rf_model = RandomForestClassifier(n_estimators=400, random_state=1)"
   ]
  },
  {
   "cell_type": "code",
   "execution_count": 23,
   "id": "c792fae8",
   "metadata": {},
   "outputs": [],
   "source": [
    "# Fit on resampled features and predict\n",
    "\n",
    "## Naive random undersample\n",
    "rf_model.fit(X_naive_rus, y_naive_rus)\n",
    "y_rf_naive_rus = rf_model.predict(X_test)\n",
    "rf_naive_rus_fi = rf_model.feature_importances_\n",
    "\n",
    "## Naive random oversample\n",
    "rf_model.fit(X_naive_ros, y_naive_ros)\n",
    "y_rf_naive_ros = rf_model.predict(X_test)\n",
    "rf_naive_ros_fi = rf_model.feature_importances_\n",
    "\n",
    "## Naive ros rus\n",
    "rf_model.fit(X_naive_ros_rus, y_naive_ros_rus)\n",
    "y_rf_naive_ros_rus = rf_model.predict(X_test)\n",
    "rf_naive_ros_rus_fi = rf_model.feature_importances_\n",
    "\n",
    "## SMOTE\n",
    "rf_model.fit(X_smote, y_smote)\n",
    "y_rf_smote = rf_model.predict(X_test)\n",
    "rf_smote_fi = rf_model.feature_importances_\n",
    "\n",
    "## SMOTEENN\n",
    "rf_model.fit(X_smoteenn, y_smoteenn)\n",
    "y_rf_smoteenn = rf_model.predict(X_test)\n",
    "rf_smoteenn_fi = rf_model.feature_importances_"
   ]
  },
  {
   "cell_type": "code",
   "execution_count": 24,
   "id": "23ecc519",
   "metadata": {},
   "outputs": [
    {
     "name": "stdout",
     "output_type": "stream",
     "text": [
      "0.46875\n",
      "[[57 65]\n",
      " [ 3  3]]\n",
      "              precision    recall  f1-score   support\n",
      "\n",
      "         0.0       0.95      0.47      0.63       122\n",
      "         1.0       0.04      0.50      0.08         6\n",
      "\n",
      "    accuracy                           0.47       128\n",
      "   macro avg       0.50      0.48      0.35       128\n",
      "weighted avg       0.91      0.47      0.60       128\n",
      "\n",
      " \n",
      "0.9453125\n",
      "[[121   1]\n",
      " [  6   0]]\n",
      "              precision    recall  f1-score   support\n",
      "\n",
      "         0.0       0.95      0.99      0.97       122\n",
      "         1.0       0.00      0.00      0.00         6\n",
      "\n",
      "    accuracy                           0.95       128\n",
      "   macro avg       0.48      0.50      0.49       128\n",
      "weighted avg       0.91      0.95      0.93       128\n",
      "\n",
      " \n",
      "0.921875\n",
      "[[118   4]\n",
      " [  6   0]]\n",
      "              precision    recall  f1-score   support\n",
      "\n",
      "         0.0       0.95      0.97      0.96       122\n",
      "         1.0       0.00      0.00      0.00         6\n",
      "\n",
      "    accuracy                           0.92       128\n",
      "   macro avg       0.48      0.48      0.48       128\n",
      "weighted avg       0.91      0.92      0.91       128\n",
      "\n",
      " \n",
      "0.921875\n",
      "[[118   4]\n",
      " [  6   0]]\n",
      "              precision    recall  f1-score   support\n",
      "\n",
      "         0.0       0.95      0.97      0.96       122\n",
      "         1.0       0.00      0.00      0.00         6\n",
      "\n",
      "    accuracy                           0.92       128\n",
      "   macro avg       0.48      0.48      0.48       128\n",
      "weighted avg       0.91      0.92      0.91       128\n",
      "\n",
      " \n",
      "0.859375\n",
      "[[110  12]\n",
      " [  6   0]]\n",
      "              precision    recall  f1-score   support\n",
      "\n",
      "         0.0       0.95      0.90      0.92       122\n",
      "         1.0       0.00      0.00      0.00         6\n",
      "\n",
      "    accuracy                           0.86       128\n",
      "   macro avg       0.47      0.45      0.46       128\n",
      "weighted avg       0.90      0.86      0.88       128\n",
      "\n",
      " \n"
     ]
    }
   ],
   "source": [
    "# Display results\n",
    "\n",
    "## Confusion Matrix, Accuracy Score and Classification Report\n",
    "for x in [y_rf_naive_rus, y_rf_naive_ros, y_rf_naive_ros_rus, y_rf_smote, y_rf_smoteenn]:\n",
    "    print(accuracy_score(y_test, x))\n",
    "    print(confusion_matrix(y_test, x))\n",
    "    print(classification_report(y_test, x))\n",
    "    print(\" \")"
   ]
  },
  {
   "cell_type": "markdown",
   "id": "31066c96",
   "metadata": {},
   "source": [
    "## Balanced Random Forest Classifier"
   ]
  },
  {
   "cell_type": "code",
   "execution_count": 25,
   "id": "bb2fcf29",
   "metadata": {},
   "outputs": [],
   "source": [
    "# Generate Imbalanced Random Forest Classier instance\n",
    "irf_model = BalancedRandomForestClassifier(n_estimators=250, random_state=1)"
   ]
  },
  {
   "cell_type": "code",
   "execution_count": 26,
   "id": "3f975561",
   "metadata": {},
   "outputs": [],
   "source": [
    "# Fit on features and predict\n",
    "irf_model.fit(X_train, y_train)\n",
    "y_irf = irf_model.predict(X_test)"
   ]
  },
  {
   "cell_type": "code",
   "execution_count": 27,
   "id": "10b3fb54",
   "metadata": {},
   "outputs": [],
   "source": [
    "# Feature impotances\n",
    "irf_fi = irf_model.feature_importances_"
   ]
  },
  {
   "cell_type": "code",
   "execution_count": 28,
   "id": "de89e5c3",
   "metadata": {},
   "outputs": [
    {
     "name": "stdout",
     "output_type": "stream",
     "text": [
      "0.5625\n",
      "[[67 55]\n",
      " [ 1  5]]\n",
      "              precision    recall  f1-score   support\n",
      "\n",
      "         0.0       0.99      0.55      0.71       122\n",
      "         1.0       0.08      0.83      0.15         6\n",
      "\n",
      "    accuracy                           0.56       128\n",
      "   macro avg       0.53      0.69      0.43       128\n",
      "weighted avg       0.94      0.56      0.68       128\n",
      "\n"
     ]
    }
   ],
   "source": [
    "# Display results\n",
    "print(accuracy_score(y_test, y_irf))\n",
    "print(confusion_matrix(y_test, y_irf))\n",
    "print(classification_report(y_test, y_irf))"
   ]
  },
  {
   "cell_type": "markdown",
   "id": "86973e63",
   "metadata": {},
   "source": [
    "# Evaluating feature importance"
   ]
  },
  {
   "cell_type": "code",
   "execution_count": 29,
   "id": "2d70a3b4",
   "metadata": {},
   "outputs": [
    {
     "data": {
      "text/html": [
       "<div>\n",
       "<style scoped>\n",
       "    .dataframe tbody tr th:only-of-type {\n",
       "        vertical-align: middle;\n",
       "    }\n",
       "\n",
       "    .dataframe tbody tr th {\n",
       "        vertical-align: top;\n",
       "    }\n",
       "\n",
       "    .dataframe thead th {\n",
       "        text-align: right;\n",
       "    }\n",
       "</style>\n",
       "<table border=\"1\" class=\"dataframe\">\n",
       "  <thead>\n",
       "    <tr style=\"text-align: right;\">\n",
       "      <th></th>\n",
       "      <th>RF-RUS</th>\n",
       "      <th>RF-ROS</th>\n",
       "      <th>RF-ROS-RUS</th>\n",
       "      <th>RF-SMOTE</th>\n",
       "      <th>RF-SMOTEENN</th>\n",
       "      <th>IRF</th>\n",
       "    </tr>\n",
       "  </thead>\n",
       "  <tbody>\n",
       "    <tr>\n",
       "      <th>sacks_def</th>\n",
       "      <td>0.053760</td>\n",
       "      <td>0.031249</td>\n",
       "      <td>0.025287</td>\n",
       "      <td>0.043832</td>\n",
       "      <td>0.031982</td>\n",
       "      <td>0.067765</td>\n",
       "    </tr>\n",
       "    <tr>\n",
       "      <th>passes_defended_def</th>\n",
       "      <td>0.115817</td>\n",
       "      <td>0.051408</td>\n",
       "      <td>0.052900</td>\n",
       "      <td>0.045138</td>\n",
       "      <td>0.036922</td>\n",
       "      <td>0.089143</td>\n",
       "    </tr>\n",
       "    <tr>\n",
       "      <th>fumbles_lost_fum</th>\n",
       "      <td>0.061889</td>\n",
       "      <td>0.096774</td>\n",
       "      <td>0.101268</td>\n",
       "      <td>0.164051</td>\n",
       "      <td>0.183181</td>\n",
       "      <td>0.104699</td>\n",
       "    </tr>\n",
       "    <tr>\n",
       "      <th>td_passes_pass</th>\n",
       "      <td>0.103364</td>\n",
       "      <td>0.120455</td>\n",
       "      <td>0.136576</td>\n",
       "      <td>0.174476</td>\n",
       "      <td>0.196069</td>\n",
       "      <td>0.115375</td>\n",
       "    </tr>\n",
       "    <tr>\n",
       "      <th>ints_pass</th>\n",
       "      <td>0.114013</td>\n",
       "      <td>0.160642</td>\n",
       "      <td>0.137881</td>\n",
       "      <td>0.053657</td>\n",
       "      <td>0.049150</td>\n",
       "      <td>0.129299</td>\n",
       "    </tr>\n",
       "    <tr>\n",
       "      <th>sacks_pass</th>\n",
       "      <td>0.177769</td>\n",
       "      <td>0.069769</td>\n",
       "      <td>0.079683</td>\n",
       "      <td>0.086447</td>\n",
       "      <td>0.062504</td>\n",
       "      <td>0.087561</td>\n",
       "    </tr>\n",
       "    <tr>\n",
       "      <th>receiving_tds_rec</th>\n",
       "      <td>0.089094</td>\n",
       "      <td>0.069107</td>\n",
       "      <td>0.079745</td>\n",
       "      <td>0.069923</td>\n",
       "      <td>0.063255</td>\n",
       "      <td>0.081182</td>\n",
       "    </tr>\n",
       "    <tr>\n",
       "      <th>rushing_tds_rush</th>\n",
       "      <td>0.104491</td>\n",
       "      <td>0.086994</td>\n",
       "      <td>0.076221</td>\n",
       "      <td>0.064769</td>\n",
       "      <td>0.068334</td>\n",
       "      <td>0.088730</td>\n",
       "    </tr>\n",
       "    <tr>\n",
       "      <th>pass_success_rate</th>\n",
       "      <td>0.100057</td>\n",
       "      <td>0.214974</td>\n",
       "      <td>0.204768</td>\n",
       "      <td>0.198401</td>\n",
       "      <td>0.212456</td>\n",
       "      <td>0.145076</td>\n",
       "    </tr>\n",
       "    <tr>\n",
       "      <th>passes_per_rushing_plays</th>\n",
       "      <td>0.079744</td>\n",
       "      <td>0.098626</td>\n",
       "      <td>0.105670</td>\n",
       "      <td>0.099306</td>\n",
       "      <td>0.096146</td>\n",
       "      <td>0.091169</td>\n",
       "    </tr>\n",
       "  </tbody>\n",
       "</table>\n",
       "</div>"
      ],
      "text/plain": [
       "                            RF-RUS    RF-ROS  RF-ROS-RUS  RF-SMOTE  \\\n",
       "sacks_def                 0.053760  0.031249    0.025287  0.043832   \n",
       "passes_defended_def       0.115817  0.051408    0.052900  0.045138   \n",
       "fumbles_lost_fum          0.061889  0.096774    0.101268  0.164051   \n",
       "td_passes_pass            0.103364  0.120455    0.136576  0.174476   \n",
       "ints_pass                 0.114013  0.160642    0.137881  0.053657   \n",
       "sacks_pass                0.177769  0.069769    0.079683  0.086447   \n",
       "receiving_tds_rec         0.089094  0.069107    0.079745  0.069923   \n",
       "rushing_tds_rush          0.104491  0.086994    0.076221  0.064769   \n",
       "pass_success_rate         0.100057  0.214974    0.204768  0.198401   \n",
       "passes_per_rushing_plays  0.079744  0.098626    0.105670  0.099306   \n",
       "\n",
       "                          RF-SMOTEENN       IRF  \n",
       "sacks_def                    0.031982  0.067765  \n",
       "passes_defended_def          0.036922  0.089143  \n",
       "fumbles_lost_fum             0.183181  0.104699  \n",
       "td_passes_pass               0.196069  0.115375  \n",
       "ints_pass                    0.049150  0.129299  \n",
       "sacks_pass                   0.062504  0.087561  \n",
       "receiving_tds_rec            0.063255  0.081182  \n",
       "rushing_tds_rush             0.068334  0.088730  \n",
       "pass_success_rate            0.212456  0.145076  \n",
       "passes_per_rushing_plays     0.096146  0.091169  "
      ]
     },
     "execution_count": 29,
     "metadata": {},
     "output_type": "execute_result"
    }
   ],
   "source": [
    "# Create feature importances DataFrame\n",
    "fi_df = pd.DataFrame({\"RF-RUS\":rf_naive_rus_fi, \"RF-ROS\":rf_naive_ros_fi, \"RF-ROS-RUS\":rf_naive_ros_rus_fi,\n",
    "              \"RF-SMOTE\":rf_smote_fi, \"RF-SMOTEENN\":rf_smoteenn_fi, \"IRF\":irf_fi}, \n",
    "             index = X.columns)\n",
    "fi_df"
   ]
  },
  {
   "cell_type": "code",
   "execution_count": 30,
   "id": "28485c1f",
   "metadata": {},
   "outputs": [
    {
     "name": "stdout",
     "output_type": "stream",
     "text": [
      "RF-RUS\n"
     ]
    },
    {
     "data": {
      "image/png": "[encoded data removed]",
      "text/plain": [
       "<Figure size 432x288 with 1 Axes>"
      ]
     },
     "metadata": {
      "needs_background": "light"
     },
     "output_type": "display_data"
    },
    {
     "name": "stdout",
     "output_type": "stream",
     "text": [
      "RF-ROS\n"
     ]
    },
    {
     "data": {
      "image/png": "[encoded data removed]",
      "text/plain": [
       "<Figure size 432x288 with 1 Axes>"
      ]
     },
     "metadata": {
      "needs_background": "light"
     },
     "output_type": "display_data"
    },
    {
     "name": "stdout",
     "output_type": "stream",
     "text": [
      "RF-ROS-RUS\n"
     ]
    },
    {
     "data": {
      "image/png": "[encoded data removed]",
      "text/plain": [
       "<Figure size 432x288 with 1 Axes>"
      ]
     },
     "metadata": {
      "needs_background": "light"
     },
     "output_type": "display_data"
    },
    {
     "name": "stdout",
     "output_type": "stream",
     "text": [
      "RF-SMOTE\n"
     ]
    },
    {
     "data": {
      "image/png": "[encoded data removed]",
      "text/plain": [
       "<Figure size 432x288 with 1 Axes>"
      ]
     },
     "metadata": {
      "needs_background": "light"
     },
     "output_type": "display_data"
    },
    {
     "name": "stdout",
     "output_type": "stream",
     "text": [
      "RF-SMOTEENN\n"
     ]
    },
    {
     "data": {
      "image/png": "[encoded data removed]",
      "text/plain": [
       "<Figure size 432x288 with 1 Axes>"
      ]
     },
     "metadata": {
      "needs_background": "light"
     },
     "output_type": "display_data"
    },
    {
     "name": "stdout",
     "output_type": "stream",
     "text": [
      "IRF\n"
     ]
    },
    {
     "data": {
      "image/png": "[encoded data removed]",
      "text/plain": [
       "<Figure size 432x288 with 1 Axes>"
      ]
     },
     "metadata": {
      "needs_background": "light"
     },
     "output_type": "display_data"
    }
   ],
   "source": [
    "# Plot descriptive statistics of feature importances\n",
    "for col in fi_df.columns:\n",
    "    print(col)\n",
    "    plt.figure()\n",
    "    plt.barh(fi_df.index, width = fi_df[col])\n",
    "    plt.show()\n",
    "    plt.close()"
   ]
  },
  {
   "cell_type": "code",
   "execution_count": 31,
   "id": "91da168c",
   "metadata": {},
   "outputs": [
    {
     "data": {
      "text/html": [
       "<div>\n",
       "<style scoped>\n",
       "    .dataframe tbody tr th:only-of-type {\n",
       "        vertical-align: middle;\n",
       "    }\n",
       "\n",
       "    .dataframe tbody tr th {\n",
       "        vertical-align: top;\n",
       "    }\n",
       "\n",
       "    .dataframe thead th {\n",
       "        text-align: right;\n",
       "    }\n",
       "</style>\n",
       "<table border=\"1\" class=\"dataframe\">\n",
       "  <thead>\n",
       "    <tr style=\"text-align: right;\">\n",
       "      <th></th>\n",
       "      <th>Sum</th>\n",
       "      <th>Mean</th>\n",
       "      <th>Max</th>\n",
       "      <th>Min</th>\n",
       "    </tr>\n",
       "  </thead>\n",
       "  <tbody>\n",
       "    <tr>\n",
       "      <th>sacks_def</th>\n",
       "      <td>0.253876</td>\n",
       "      <td>0.042313</td>\n",
       "      <td>0.067765</td>\n",
       "      <td>0.025287</td>\n",
       "    </tr>\n",
       "    <tr>\n",
       "      <th>passes_defended_def</th>\n",
       "      <td>0.391328</td>\n",
       "      <td>0.065221</td>\n",
       "      <td>0.115817</td>\n",
       "      <td>0.036922</td>\n",
       "    </tr>\n",
       "    <tr>\n",
       "      <th>fumbles_lost_fum</th>\n",
       "      <td>0.711863</td>\n",
       "      <td>0.118644</td>\n",
       "      <td>0.183181</td>\n",
       "      <td>0.061889</td>\n",
       "    </tr>\n",
       "    <tr>\n",
       "      <th>td_passes_pass</th>\n",
       "      <td>0.846316</td>\n",
       "      <td>0.141053</td>\n",
       "      <td>0.196069</td>\n",
       "      <td>0.103364</td>\n",
       "    </tr>\n",
       "    <tr>\n",
       "      <th>ints_pass</th>\n",
       "      <td>0.644643</td>\n",
       "      <td>0.107440</td>\n",
       "      <td>0.160642</td>\n",
       "      <td>0.049150</td>\n",
       "    </tr>\n",
       "    <tr>\n",
       "      <th>sacks_pass</th>\n",
       "      <td>0.563733</td>\n",
       "      <td>0.093956</td>\n",
       "      <td>0.177769</td>\n",
       "      <td>0.062504</td>\n",
       "    </tr>\n",
       "    <tr>\n",
       "      <th>receiving_tds_rec</th>\n",
       "      <td>0.452306</td>\n",
       "      <td>0.075384</td>\n",
       "      <td>0.089094</td>\n",
       "      <td>0.063255</td>\n",
       "    </tr>\n",
       "    <tr>\n",
       "      <th>rushing_tds_rush</th>\n",
       "      <td>0.489540</td>\n",
       "      <td>0.081590</td>\n",
       "      <td>0.104491</td>\n",
       "      <td>0.064769</td>\n",
       "    </tr>\n",
       "    <tr>\n",
       "      <th>pass_success_rate</th>\n",
       "      <td>1.075733</td>\n",
       "      <td>0.179289</td>\n",
       "      <td>0.214974</td>\n",
       "      <td>0.100057</td>\n",
       "    </tr>\n",
       "    <tr>\n",
       "      <th>passes_per_rushing_plays</th>\n",
       "      <td>0.570662</td>\n",
       "      <td>0.095110</td>\n",
       "      <td>0.105670</td>\n",
       "      <td>0.079744</td>\n",
       "    </tr>\n",
       "  </tbody>\n",
       "</table>\n",
       "</div>"
      ],
      "text/plain": [
       "                               Sum      Mean       Max       Min\n",
       "sacks_def                 0.253876  0.042313  0.067765  0.025287\n",
       "passes_defended_def       0.391328  0.065221  0.115817  0.036922\n",
       "fumbles_lost_fum          0.711863  0.118644  0.183181  0.061889\n",
       "td_passes_pass            0.846316  0.141053  0.196069  0.103364\n",
       "ints_pass                 0.644643  0.107440  0.160642  0.049150\n",
       "sacks_pass                0.563733  0.093956  0.177769  0.062504\n",
       "receiving_tds_rec         0.452306  0.075384  0.089094  0.063255\n",
       "rushing_tds_rush          0.489540  0.081590  0.104491  0.064769\n",
       "pass_success_rate         1.075733  0.179289  0.214974  0.100057\n",
       "passes_per_rushing_plays  0.570662  0.095110  0.105670  0.079744"
      ]
     },
     "execution_count": 31,
     "metadata": {},
     "output_type": "execute_result"
    }
   ],
   "source": [
    "# Create descriptive statistics for feature importances across models DataFrame\n",
    "fi_stats_df = pd.DataFrame({\"Sum\":fi_df.transpose().sum(),\"Mean\":fi_df.transpose().mean(), \"Max\": fi_df.transpose().max(),\n",
    "             \"Min\": fi_df.transpose().min()}, index = fi_df.index)\n",
    "fi_stats_df\n"
   ]
  },
  {
   "cell_type": "code",
   "execution_count": 32,
   "id": "d0cf52af",
   "metadata": {},
   "outputs": [
    {
     "name": "stdout",
     "output_type": "stream",
     "text": [
      "Sum\n"
     ]
    },
    {
     "data": {
      "image/png": "[encoded data removed]",
      "text/plain": [
       "<Figure size 432x288 with 1 Axes>"
      ]
     },
     "metadata": {
      "needs_background": "light"
     },
     "output_type": "display_data"
    },
    {
     "name": "stdout",
     "output_type": "stream",
     "text": [
      "Mean\n"
     ]
    },
    {
     "data": {
      "image/png": "[encoded data removed]",
      "text/plain": [
       "<Figure size 432x288 with 1 Axes>"
      ]
     },
     "metadata": {
      "needs_background": "light"
     },
     "output_type": "display_data"
    },
    {
     "name": "stdout",
     "output_type": "stream",
     "text": [
      "Max\n"
     ]
    },
    {
     "data": {
      "image/png": "[encoded data removed]",
      "text/plain": [
       "<Figure size 432x288 with 1 Axes>"
      ]
     },
     "metadata": {
      "needs_background": "light"
     },
     "output_type": "display_data"
    },
    {
     "name": "stdout",
     "output_type": "stream",
     "text": [
      "Min\n"
     ]
    },
    {
     "data": {
      "image/png": "[encoded data removed]",
      "text/plain": [
       "<Figure size 432x288 with 1 Axes>"
      ]
     },
     "metadata": {
      "needs_background": "light"
     },
     "output_type": "display_data"
    }
   ],
   "source": [
    "# Plot descriptive statistics of feature importances across models\n",
    "for col in fi_stats_df.columns:\n",
    "    print(col)\n",
    "    plt.figure()\n",
    "    plt.barh(fi_stats_df.index, width = fi_stats_df[col])\n",
    "    plt.show()\n",
    "    plt.close()"
   ]
  },
  {
   "cell_type": "code",
   "execution_count": null,
   "id": "167c9b29",
   "metadata": {},
   "outputs": [],
   "source": []
  }
 ],
 "metadata": {
  "kernelspec": {
   "display_name": "mlenv",
   "language": "python",
   "name": "mlenv"
  },
  "language_info": {
   "codemirror_mode": {
    "name": "ipython",
    "version": 3
   },
   "file_extension": ".py",
   "mimetype": "text/x-python",
   "name": "python",
   "nbconvert_exporter": "python",
   "pygments_lexer": "ipython3",
   "version": "3.7.11"
  }
 },
 "nbformat": 4,
 "nbformat_minor": 5
}
