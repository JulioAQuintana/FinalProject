{
 "cells": [
  {
   "cell_type": "code",
   "execution_count": 1,
   "id": "37307468",
   "metadata": {},
   "outputs": [],
   "source": [
    "# Import Dependendies\n",
    "import pandas as pd\n",
    "import matplotlib.pyplot as plt"
   ]
  },
  {
   "cell_type": "code",
   "execution_count": 2,
   "id": "2dd86049",
   "metadata": {},
   "outputs": [],
   "source": [
    "# Import csvs\n",
    "defensive = pd.read_csv(\"../Resources/clean_defensive.csv\")\n",
    "kickers = pd.read_csv(\"../Resources/clean_field_goal_kickers.csv\")\n",
    "fumbles = pd.read_csv(\"../Resources/clean_fumbles.csv\")\n",
    "passing = pd.read_csv(\"../Resources/clean_passing.csv\")\n",
    "receiving = pd.read_csv(\"../Resources/clean_receiving.csv\")\n",
    "rushing = pd.read_csv(\"../Resources/clean_rushing.csv\")"
   ]
  },
  {
   "cell_type": "code",
   "execution_count": 3,
   "id": "9efd5200",
   "metadata": {},
   "outputs": [],
   "source": [
    "# Files to be merged\n",
    "files = [kickers, fumbles, passing, receiving, rushing]"
   ]
  },
  {
   "cell_type": "code",
   "execution_count": 4,
   "id": "286b5f09",
   "metadata": {},
   "outputs": [],
   "source": [
    "# Merge dataframes\n",
    "df = defensive\n",
    "for i in range(5):\n",
    "    df = pd.merge(df, files[i])"
   ]
  },
  {
   "cell_type": "code",
   "execution_count": 5,
   "id": "30e42c6b",
   "metadata": {},
   "outputs": [
    {
     "data": {
      "text/html": [
       "<div>\n",
       "<style scoped>\n",
       "    .dataframe tbody tr th:only-of-type {\n",
       "        vertical-align: middle;\n",
       "    }\n",
       "\n",
       "    .dataframe tbody tr th {\n",
       "        vertical-align: top;\n",
       "    }\n",
       "\n",
       "    .dataframe thead th {\n",
       "        text-align: right;\n",
       "    }\n",
       "</style>\n",
       "<table border=\"1\" class=\"dataframe\">\n",
       "  <thead>\n",
       "    <tr style=\"text-align: right;\">\n",
       "      <th></th>\n",
       "      <th>team_year</th>\n",
       "      <th>total_tackles_def</th>\n",
       "      <th>solo_tackles_def</th>\n",
       "      <th>assisted_tackles_def</th>\n",
       "      <th>sacks_def</th>\n",
       "      <th>safties_def</th>\n",
       "      <th>passes_defended_def</th>\n",
       "      <th>ints_def</th>\n",
       "      <th>ints_for_tds_def</th>\n",
       "      <th>int_yards_def</th>\n",
       "      <th>...</th>\n",
       "      <th>receptions_rec</th>\n",
       "      <th>receiving_yards_rec</th>\n",
       "      <th>receiving_tds_rec</th>\n",
       "      <th>first_down_receptions_rec</th>\n",
       "      <th>fumbles_rec</th>\n",
       "      <th>rushing_attempts_rush</th>\n",
       "      <th>rushing_yards_rush</th>\n",
       "      <th>rushing_tds_rush</th>\n",
       "      <th>rushing_first_downs_rush</th>\n",
       "      <th>fumbles_rush</th>\n",
       "    </tr>\n",
       "  </thead>\n",
       "  <tbody>\n",
       "    <tr>\n",
       "      <th>0</th>\n",
       "      <td>arizona_cardinals_1994</td>\n",
       "      <td>0</td>\n",
       "      <td>0</td>\n",
       "      <td>0</td>\n",
       "      <td>9</td>\n",
       "      <td>0</td>\n",
       "      <td>0</td>\n",
       "      <td>1</td>\n",
       "      <td>1</td>\n",
       "      <td>59</td>\n",
       "      <td>...</td>\n",
       "      <td>133</td>\n",
       "      <td>1212</td>\n",
       "      <td>4</td>\n",
       "      <td>65</td>\n",
       "      <td>2</td>\n",
       "      <td>140</td>\n",
       "      <td>413</td>\n",
       "      <td>6</td>\n",
       "      <td>26</td>\n",
       "      <td>7</td>\n",
       "    </tr>\n",
       "    <tr>\n",
       "      <th>1</th>\n",
       "      <td>arizona_cardinals_1995</td>\n",
       "      <td>0</td>\n",
       "      <td>0</td>\n",
       "      <td>0</td>\n",
       "      <td>3</td>\n",
       "      <td>0</td>\n",
       "      <td>0</td>\n",
       "      <td>3</td>\n",
       "      <td>0</td>\n",
       "      <td>42</td>\n",
       "      <td>...</td>\n",
       "      <td>225</td>\n",
       "      <td>2647</td>\n",
       "      <td>11</td>\n",
       "      <td>121</td>\n",
       "      <td>2</td>\n",
       "      <td>83</td>\n",
       "      <td>264</td>\n",
       "      <td>2</td>\n",
       "      <td>11</td>\n",
       "      <td>2</td>\n",
       "    </tr>\n",
       "    <tr>\n",
       "      <th>2</th>\n",
       "      <td>arizona_cardinals_1996</td>\n",
       "      <td>0</td>\n",
       "      <td>0</td>\n",
       "      <td>0</td>\n",
       "      <td>2</td>\n",
       "      <td>0</td>\n",
       "      <td>0</td>\n",
       "      <td>3</td>\n",
       "      <td>0</td>\n",
       "      <td>23</td>\n",
       "      <td>...</td>\n",
       "      <td>243</td>\n",
       "      <td>2459</td>\n",
       "      <td>14</td>\n",
       "      <td>140</td>\n",
       "      <td>3</td>\n",
       "      <td>276</td>\n",
       "      <td>1099</td>\n",
       "      <td>6</td>\n",
       "      <td>48</td>\n",
       "      <td>7</td>\n",
       "    </tr>\n",
       "    <tr>\n",
       "      <th>3</th>\n",
       "      <td>arizona_cardinals_1997</td>\n",
       "      <td>0</td>\n",
       "      <td>0</td>\n",
       "      <td>0</td>\n",
       "      <td>12</td>\n",
       "      <td>0</td>\n",
       "      <td>0</td>\n",
       "      <td>3</td>\n",
       "      <td>0</td>\n",
       "      <td>15</td>\n",
       "      <td>...</td>\n",
       "      <td>182</td>\n",
       "      <td>1938</td>\n",
       "      <td>10</td>\n",
       "      <td>95</td>\n",
       "      <td>4</td>\n",
       "      <td>133</td>\n",
       "      <td>385</td>\n",
       "      <td>2</td>\n",
       "      <td>24</td>\n",
       "      <td>2</td>\n",
       "    </tr>\n",
       "    <tr>\n",
       "      <th>4</th>\n",
       "      <td>arizona_cardinals_1998</td>\n",
       "      <td>0</td>\n",
       "      <td>0</td>\n",
       "      <td>0</td>\n",
       "      <td>10</td>\n",
       "      <td>0</td>\n",
       "      <td>0</td>\n",
       "      <td>10</td>\n",
       "      <td>0</td>\n",
       "      <td>80</td>\n",
       "      <td>...</td>\n",
       "      <td>182</td>\n",
       "      <td>1997</td>\n",
       "      <td>6</td>\n",
       "      <td>92</td>\n",
       "      <td>4</td>\n",
       "      <td>124</td>\n",
       "      <td>366</td>\n",
       "      <td>6</td>\n",
       "      <td>30</td>\n",
       "      <td>2</td>\n",
       "    </tr>\n",
       "  </tbody>\n",
       "</table>\n",
       "<p>5 rows × 38 columns</p>\n",
       "</div>"
      ],
      "text/plain": [
       "                team_year  total_tackles_def  solo_tackles_def  \\\n",
       "0  arizona_cardinals_1994                  0                 0   \n",
       "1  arizona_cardinals_1995                  0                 0   \n",
       "2  arizona_cardinals_1996                  0                 0   \n",
       "3  arizona_cardinals_1997                  0                 0   \n",
       "4  arizona_cardinals_1998                  0                 0   \n",
       "\n",
       "   assisted_tackles_def  sacks_def  safties_def  passes_defended_def  \\\n",
       "0                     0          9            0                    0   \n",
       "1                     0          3            0                    0   \n",
       "2                     0          2            0                    0   \n",
       "3                     0         12            0                    0   \n",
       "4                     0         10            0                    0   \n",
       "\n",
       "   ints_def  ints_for_tds_def  int_yards_def  ...  receptions_rec  \\\n",
       "0         1                 1             59  ...             133   \n",
       "1         3                 0             42  ...             225   \n",
       "2         3                 0             23  ...             243   \n",
       "3         3                 0             15  ...             182   \n",
       "4        10                 0             80  ...             182   \n",
       "\n",
       "   receiving_yards_rec  receiving_tds_rec  first_down_receptions_rec  \\\n",
       "0                 1212                  4                         65   \n",
       "1                 2647                 11                        121   \n",
       "2                 2459                 14                        140   \n",
       "3                 1938                 10                         95   \n",
       "4                 1997                  6                         92   \n",
       "\n",
       "   fumbles_rec  rushing_attempts_rush  rushing_yards_rush  rushing_tds_rush  \\\n",
       "0            2                    140                 413                 6   \n",
       "1            2                     83                 264                 2   \n",
       "2            3                    276                1099                 6   \n",
       "3            4                    133                 385                 2   \n",
       "4            4                    124                 366                 6   \n",
       "\n",
       "   rushing_first_downs_rush  fumbles_rush  \n",
       "0                        26             7  \n",
       "1                        11             2  \n",
       "2                        48             7  \n",
       "3                        24             2  \n",
       "4                        30             2  \n",
       "\n",
       "[5 rows x 38 columns]"
      ]
     },
     "execution_count": 5,
     "metadata": {},
     "output_type": "execute_result"
    }
   ],
   "source": [
    "# Visualize df\n",
    "df.head()"
   ]
  },
  {
   "cell_type": "code",
   "execution_count": 6,
   "id": "a7e59552",
   "metadata": {},
   "outputs": [
    {
     "name": "stdout",
     "output_type": "stream",
     "text": [
      "total_tackles_def\n",
      "count     798.000000\n",
      "mean      347.320802\n",
      "std       363.545554\n",
      "min         0.000000\n",
      "25%         0.000000\n",
      "50%       353.500000\n",
      "75%       671.750000\n",
      "max      1083.000000\n",
      "Name: total_tackles_def, dtype: float64\n",
      " \n",
      "solo_tackles_def\n",
      "count    798.000000\n",
      "mean     261.383459\n",
      "std      270.329737\n",
      "min        0.000000\n",
      "25%        0.000000\n",
      "50%      282.000000\n",
      "75%      499.250000\n",
      "max      803.000000\n",
      "Name: solo_tackles_def, dtype: float64\n",
      " \n",
      "assisted_tackles_def\n",
      "count    798.000000\n",
      "mean      85.937343\n",
      "std       99.313407\n",
      "min        0.000000\n",
      "25%        0.000000\n",
      "50%       62.000000\n",
      "75%      150.750000\n",
      "max      438.000000\n",
      "Name: assisted_tackles_def, dtype: float64\n",
      " \n",
      "sacks_def\n",
      "count    798.000000\n",
      "mean      16.809524\n",
      "std        8.112528\n",
      "min        0.000000\n",
      "25%       11.000000\n",
      "50%       16.000000\n",
      "75%       22.000000\n",
      "max       45.000000\n",
      "Name: sacks_def, dtype: float64\n",
      " \n",
      "safties_def\n",
      "count    798.000000\n",
      "mean       0.203008\n",
      "std        0.446811\n",
      "min        0.000000\n",
      "25%        0.000000\n",
      "50%        0.000000\n",
      "75%        0.000000\n",
      "max        2.000000\n",
      "Name: safties_def, dtype: float64\n",
      " \n",
      "passes_defended_def\n",
      "count    798.000000\n",
      "mean      24.596491\n",
      "std       27.810076\n",
      "min        0.000000\n",
      "25%        0.000000\n",
      "50%       14.500000\n",
      "75%       48.000000\n",
      "max      103.000000\n",
      "Name: passes_defended_def, dtype: float64\n",
      " \n",
      "ints_def\n",
      "count    798.000000\n",
      "mean       8.755639\n",
      "std        4.954162\n",
      "min        0.000000\n",
      "25%        5.000000\n",
      "50%        8.000000\n",
      "75%       12.000000\n",
      "max       27.000000\n",
      "Name: ints_def, dtype: float64\n",
      " \n",
      "ints_for_tds_def\n",
      "count    798.000000\n",
      "mean       0.882206\n",
      "std        1.050140\n",
      "min        0.000000\n",
      "25%        0.000000\n",
      "50%        1.000000\n",
      "75%        1.000000\n",
      "max        5.000000\n",
      "Name: ints_for_tds_def, dtype: float64\n",
      " \n",
      "int_yards_def\n",
      "count    798.000000\n",
      "mean     125.372180\n",
      "std       93.386049\n",
      "min       -6.000000\n",
      "25%       54.000000\n",
      "50%      108.500000\n",
      "75%      179.000000\n",
      "max      585.000000\n",
      "Name: int_yards_def, dtype: float64\n",
      " \n",
      "kicks_blocked_kick\n",
      "count    798.000000\n",
      "mean       0.526316\n",
      "std        0.835945\n",
      "min        0.000000\n",
      "25%        0.000000\n",
      "50%        0.000000\n",
      "75%        1.000000\n",
      "max        5.000000\n",
      "Name: kicks_blocked_kick, dtype: float64\n",
      " \n",
      "fgs_made_kick\n",
      "count    798.000000\n",
      "mean      21.005013\n",
      "std        8.542607\n",
      "min        0.000000\n",
      "25%       17.000000\n",
      "50%       22.000000\n",
      "75%       26.000000\n",
      "max       44.000000\n",
      "Name: fgs_made_kick, dtype: float64\n",
      " \n",
      "fgs_attempted_kick\n",
      "count    798.000000\n",
      "mean      26.546366\n",
      "std        9.789362\n",
      "min        0.000000\n",
      "25%       24.000000\n",
      "50%       28.000000\n",
      "75%       33.000000\n",
      "max       52.000000\n",
      "Name: fgs_attempted_kick, dtype: float64\n",
      " \n",
      "extra_points_attempted_kick\n",
      "count    798.000000\n",
      "mean      32.422306\n",
      "std       13.234810\n",
      "min        0.000000\n",
      "25%       26.000000\n",
      "50%       34.000000\n",
      "75%       41.000000\n",
      "max       75.000000\n",
      "Name: extra_points_attempted_kick, dtype: float64\n",
      " \n",
      "extra_points_made_kick\n",
      "count    798.000000\n",
      "mean      31.751880\n",
      "std       13.037003\n",
      "min        0.000000\n",
      "25%       26.000000\n",
      "50%       33.000000\n",
      "75%       40.000000\n",
      "max       75.000000\n",
      "Name: extra_points_made_kick, dtype: float64\n",
      " \n",
      "extra_points_blocked_kick\n",
      "count    798.000000\n",
      "mean       0.169173\n",
      "std        0.451071\n",
      "min        0.000000\n",
      "25%        0.000000\n",
      "50%        0.000000\n",
      "75%        0.000000\n",
      "max        5.000000\n",
      "Name: extra_points_blocked_kick, dtype: float64\n",
      " \n",
      "fumbles_lost_fum\n",
      "count    798.000000\n",
      "mean       5.286967\n",
      "std        4.163124\n",
      "min        0.000000\n",
      "25%        1.000000\n",
      "50%        5.000000\n",
      "75%        8.000000\n",
      "max       16.000000\n",
      "Name: fumbles_lost_fum, dtype: float64\n",
      " \n",
      "forced_fumbles_fum\n",
      "count    798.000000\n",
      "mean       1.200501\n",
      "std        1.916684\n",
      "min        0.000000\n",
      "25%        0.000000\n",
      "50%        0.000000\n",
      "75%        2.000000\n",
      "max       11.000000\n",
      "Name: forced_fumbles_fum, dtype: float64\n",
      " \n",
      "own_fumble_return_yards_fum\n",
      "count    798.000000\n",
      "mean       0.661654\n",
      "std        4.371495\n",
      "min      -14.000000\n",
      "25%        0.000000\n",
      "50%        0.000000\n",
      "75%        0.000000\n",
      "max       62.000000\n",
      "Name: own_fumble_return_yards_fum, dtype: float64\n",
      " \n",
      "opponent_fumble_return_yards_fum\n",
      "count    798.000000\n",
      "mean       7.091479\n",
      "std       17.084054\n",
      "min       -5.000000\n",
      "25%        0.000000\n",
      "50%        0.000000\n",
      "75%        3.000000\n",
      "max      104.000000\n",
      "Name: opponent_fumble_return_yards_fum, dtype: float64\n",
      " \n",
      "fumble_return_tds_fum\n",
      "count    798.000000\n",
      "mean       0.114035\n",
      "std        0.348185\n",
      "min        0.000000\n",
      "25%        0.000000\n",
      "50%        0.000000\n",
      "75%        0.000000\n",
      "max        2.000000\n",
      "Name: fumble_return_tds_fum, dtype: float64\n",
      " \n",
      "passes_attempted_pass\n",
      "count    798.000000\n",
      "mean     344.562657\n",
      "std      223.445008\n",
      "min        0.000000\n",
      "25%       99.000000\n",
      "50%      436.000000\n",
      "75%      531.000000\n",
      "max      740.000000\n",
      "Name: passes_attempted_pass, dtype: float64\n",
      " \n",
      "passes_completed_pass\n",
      "count    798.000000\n",
      "mean     204.682957\n",
      "std      138.421804\n",
      "min        0.000000\n",
      "25%       54.000000\n",
      "50%      246.000000\n",
      "75%      316.000000\n",
      "max      472.000000\n",
      "Name: passes_completed_pass, dtype: float64\n",
      " \n",
      "passing_yards_pass\n",
      "count     798.000000\n",
      "mean     2401.810777\n",
      "std      1620.055291\n",
      "min        -7.000000\n",
      "25%       637.750000\n",
      "50%      2931.000000\n",
      "75%      3693.750000\n",
      "max      5572.000000\n",
      "Name: passing_yards_pass, dtype: float64\n",
      " \n",
      "td_passes_pass\n",
      "count    798.000000\n",
      "mean      14.551378\n",
      "std       11.271787\n",
      "min        0.000000\n",
      "25%        3.000000\n",
      "50%       15.000000\n",
      "75%       23.000000\n",
      "max       55.000000\n",
      "Name: td_passes_pass, dtype: float64\n",
      " \n",
      "ints_pass\n",
      "count    798.000000\n",
      "mean      10.679198\n",
      "std        7.413734\n",
      "min        0.000000\n",
      "25%        4.000000\n",
      "50%       11.000000\n",
      "75%       16.000000\n",
      "max       36.000000\n",
      "Name: ints_pass, dtype: float64\n",
      " \n",
      "sacks_pass\n",
      "count    798.000000\n",
      "mean      23.666667\n",
      "std       16.868721\n",
      "min        0.000000\n",
      "25%        7.000000\n",
      "50%       25.500000\n",
      "75%       36.000000\n",
      "max       71.000000\n",
      "Name: sacks_pass, dtype: float64\n",
      " \n",
      "sacked_yards_lost_pass\n",
      "count    798.000000\n",
      "mean     157.684211\n",
      "std      112.993745\n",
      "min        0.000000\n",
      "25%       50.250000\n",
      "50%      168.000000\n",
      "75%      241.000000\n",
      "max      468.000000\n",
      "Name: sacked_yards_lost_pass, dtype: float64\n",
      " \n",
      "receptions_rec\n",
      "count    798.000000\n",
      "mean     186.755639\n",
      "std       81.682660\n",
      "min       12.000000\n",
      "25%      130.000000\n",
      "50%      172.000000\n",
      "75%      230.750000\n",
      "max      472.000000\n",
      "Name: receptions_rec, dtype: float64\n",
      " \n",
      "receiving_yards_rec\n",
      "count     798.000000\n",
      "mean     2196.077694\n",
      "std       965.630605\n",
      "min       129.000000\n",
      "25%      1504.750000\n",
      "50%      2061.000000\n",
      "75%      2787.000000\n",
      "max      5258.000000\n",
      "Name: receiving_yards_rec, dtype: float64\n",
      " \n",
      "receiving_tds_rec\n",
      "count    798.000000\n",
      "mean      13.263158\n",
      "std        7.627029\n",
      "min        0.000000\n",
      "25%        8.000000\n",
      "50%       12.000000\n",
      "75%       18.000000\n",
      "max       48.000000\n",
      "Name: receiving_tds_rec, dtype: float64\n",
      " \n",
      "first_down_receptions_rec\n",
      "count    798.000000\n",
      "mean      87.476190\n",
      "std       63.458589\n",
      "min        0.000000\n",
      "25%       33.250000\n",
      "50%       91.000000\n",
      "75%      132.750000\n",
      "max      265.000000\n",
      "Name: first_down_receptions_rec, dtype: float64\n",
      " \n",
      "fumbles_rec\n",
      "count    798.000000\n",
      "mean       1.769424\n",
      "std        1.793469\n",
      "min        0.000000\n",
      "25%        0.000000\n",
      "50%        1.000000\n",
      "75%        3.000000\n",
      "max        8.000000\n",
      "Name: fumbles_rec, dtype: float64\n",
      " \n",
      "rushing_attempts_rush\n",
      "count    798.000000\n",
      "mean     272.379699\n",
      "std      141.090012\n",
      "min        3.000000\n",
      "25%      144.250000\n",
      "50%      290.500000\n",
      "75%      389.750000\n",
      "max      598.000000\n",
      "Name: rushing_attempts_rush, dtype: float64\n",
      " \n",
      "rushing_yards_rush\n",
      "count     798.000000\n",
      "mean     1127.919799\n",
      "std       631.173795\n",
      "min         1.000000\n",
      "25%       565.500000\n",
      "50%      1172.500000\n",
      "75%      1630.250000\n",
      "max      2762.000000\n",
      "Name: rushing_yards_rush, dtype: float64\n",
      " \n",
      "rushing_tds_rush\n",
      "count    798.000000\n",
      "mean       7.986216\n",
      "std        5.548785\n",
      "min        0.000000\n",
      "25%        3.000000\n",
      "50%        7.000000\n",
      "75%       11.000000\n",
      "max       30.000000\n",
      "Name: rushing_tds_rush, dtype: float64\n",
      " \n",
      "rushing_first_downs_rush\n",
      "count    798.000000\n",
      "mean      48.472431\n",
      "std       39.024409\n",
      "min        0.000000\n",
      "25%        7.000000\n",
      "50%       47.000000\n",
      "75%       81.000000\n",
      "max      146.000000\n",
      "Name: rushing_first_downs_rush, dtype: float64\n",
      " \n",
      "fumbles_rush\n",
      "count    798.000000\n",
      "mean       3.979950\n",
      "std        3.659209\n",
      "min        0.000000\n",
      "25%        0.000000\n",
      "50%        3.000000\n",
      "75%        6.000000\n",
      "max       19.000000\n",
      "Name: fumbles_rush, dtype: float64\n",
      " \n"
     ]
    }
   ],
   "source": [
    "# Descriptive statistics: Great percentage of variables are 0's\n",
    "for col in df.loc[:, df.columns != \"team_year\"]:\n",
    "    print(col)\n",
    "    print(df[col].describe())\n",
    "    print(\" \")"
   ]
  },
  {
   "cell_type": "code",
   "execution_count": 7,
   "id": "d2f86682",
   "metadata": {},
   "outputs": [],
   "source": [
    "# Since 0's are probably related to year of measurement, we'll need a dataset by year to evaluate\n",
    "# Create \"year\" column\n",
    "df_var_check = df\n",
    "df_var_check[\"year\"] = [int(row[-4:]) for row in df_var_check[\"team_year\"]]\n",
    "\n",
    "# Drop \"team_year\"\n",
    "df_var_check = df_var_check.drop(\"team_year\", axis = 1)"
   ]
  },
  {
   "cell_type": "code",
   "execution_count": 8,
   "id": "7d5edbc0",
   "metadata": {},
   "outputs": [],
   "source": [
    "# Group by year\n",
    "df_var_check_year = df_var_check.groupby(\"year\").sum()"
   ]
  },
  {
   "cell_type": "code",
   "execution_count": 9,
   "id": "228f4351",
   "metadata": {},
   "outputs": [
    {
     "data": {
      "text/html": [
       "<div>\n",
       "<style scoped>\n",
       "    .dataframe tbody tr th:only-of-type {\n",
       "        vertical-align: middle;\n",
       "    }\n",
       "\n",
       "    .dataframe tbody tr th {\n",
       "        vertical-align: top;\n",
       "    }\n",
       "\n",
       "    .dataframe thead th {\n",
       "        text-align: right;\n",
       "    }\n",
       "</style>\n",
       "<table border=\"1\" class=\"dataframe\">\n",
       "  <thead>\n",
       "    <tr style=\"text-align: right;\">\n",
       "      <th></th>\n",
       "      <th>total_tackles_def</th>\n",
       "      <th>solo_tackles_def</th>\n",
       "      <th>assisted_tackles_def</th>\n",
       "      <th>sacks_def</th>\n",
       "      <th>safties_def</th>\n",
       "      <th>passes_defended_def</th>\n",
       "      <th>ints_def</th>\n",
       "      <th>ints_for_tds_def</th>\n",
       "      <th>int_yards_def</th>\n",
       "      <th>kicks_blocked_kick</th>\n",
       "      <th>...</th>\n",
       "      <th>receptions_rec</th>\n",
       "      <th>receiving_yards_rec</th>\n",
       "      <th>receiving_tds_rec</th>\n",
       "      <th>first_down_receptions_rec</th>\n",
       "      <th>fumbles_rec</th>\n",
       "      <th>rushing_attempts_rush</th>\n",
       "      <th>rushing_yards_rush</th>\n",
       "      <th>rushing_tds_rush</th>\n",
       "      <th>rushing_first_downs_rush</th>\n",
       "      <th>fumbles_rush</th>\n",
       "    </tr>\n",
       "    <tr>\n",
       "      <th>year</th>\n",
       "      <th></th>\n",
       "      <th></th>\n",
       "      <th></th>\n",
       "      <th></th>\n",
       "      <th></th>\n",
       "      <th></th>\n",
       "      <th></th>\n",
       "      <th></th>\n",
       "      <th></th>\n",
       "      <th></th>\n",
       "      <th></th>\n",
       "      <th></th>\n",
       "      <th></th>\n",
       "      <th></th>\n",
       "      <th></th>\n",
       "      <th></th>\n",
       "      <th></th>\n",
       "      <th></th>\n",
       "      <th></th>\n",
       "      <th></th>\n",
       "      <th></th>\n",
       "    </tr>\n",
       "  </thead>\n",
       "  <tbody>\n",
       "    <tr>\n",
       "      <th>1977</th>\n",
       "      <td>0</td>\n",
       "      <td>0</td>\n",
       "      <td>0</td>\n",
       "      <td>0</td>\n",
       "      <td>0</td>\n",
       "      <td>0</td>\n",
       "      <td>5</td>\n",
       "      <td>0</td>\n",
       "      <td>39</td>\n",
       "      <td>0</td>\n",
       "      <td>...</td>\n",
       "      <td>247</td>\n",
       "      <td>3361</td>\n",
       "      <td>18</td>\n",
       "      <td>0</td>\n",
       "      <td>0</td>\n",
       "      <td>745</td>\n",
       "      <td>3505</td>\n",
       "      <td>23</td>\n",
       "      <td>0</td>\n",
       "      <td>0</td>\n",
       "    </tr>\n",
       "    <tr>\n",
       "      <th>1978</th>\n",
       "      <td>0</td>\n",
       "      <td>0</td>\n",
       "      <td>0</td>\n",
       "      <td>0</td>\n",
       "      <td>0</td>\n",
       "      <td>0</td>\n",
       "      <td>4</td>\n",
       "      <td>0</td>\n",
       "      <td>77</td>\n",
       "      <td>0</td>\n",
       "      <td>...</td>\n",
       "      <td>270</td>\n",
       "      <td>3363</td>\n",
       "      <td>10</td>\n",
       "      <td>0</td>\n",
       "      <td>0</td>\n",
       "      <td>740</td>\n",
       "      <td>2954</td>\n",
       "      <td>19</td>\n",
       "      <td>0</td>\n",
       "      <td>0</td>\n",
       "    </tr>\n",
       "    <tr>\n",
       "      <th>1979</th>\n",
       "      <td>0</td>\n",
       "      <td>0</td>\n",
       "      <td>0</td>\n",
       "      <td>0</td>\n",
       "      <td>0</td>\n",
       "      <td>0</td>\n",
       "      <td>7</td>\n",
       "      <td>0</td>\n",
       "      <td>63</td>\n",
       "      <td>0</td>\n",
       "      <td>...</td>\n",
       "      <td>286</td>\n",
       "      <td>3173</td>\n",
       "      <td>15</td>\n",
       "      <td>0</td>\n",
       "      <td>0</td>\n",
       "      <td>666</td>\n",
       "      <td>2595</td>\n",
       "      <td>21</td>\n",
       "      <td>0</td>\n",
       "      <td>0</td>\n",
       "    </tr>\n",
       "    <tr>\n",
       "      <th>1980</th>\n",
       "      <td>0</td>\n",
       "      <td>0</td>\n",
       "      <td>0</td>\n",
       "      <td>0</td>\n",
       "      <td>0</td>\n",
       "      <td>0</td>\n",
       "      <td>6</td>\n",
       "      <td>0</td>\n",
       "      <td>67</td>\n",
       "      <td>0</td>\n",
       "      <td>...</td>\n",
       "      <td>262</td>\n",
       "      <td>3388</td>\n",
       "      <td>18</td>\n",
       "      <td>0</td>\n",
       "      <td>0</td>\n",
       "      <td>600</td>\n",
       "      <td>2576</td>\n",
       "      <td>23</td>\n",
       "      <td>0</td>\n",
       "      <td>0</td>\n",
       "    </tr>\n",
       "    <tr>\n",
       "      <th>1981</th>\n",
       "      <td>0</td>\n",
       "      <td>0</td>\n",
       "      <td>0</td>\n",
       "      <td>0</td>\n",
       "      <td>1</td>\n",
       "      <td>0</td>\n",
       "      <td>30</td>\n",
       "      <td>6</td>\n",
       "      <td>670</td>\n",
       "      <td>0</td>\n",
       "      <td>...</td>\n",
       "      <td>510</td>\n",
       "      <td>7001</td>\n",
       "      <td>41</td>\n",
       "      <td>0</td>\n",
       "      <td>0</td>\n",
       "      <td>614</td>\n",
       "      <td>2404</td>\n",
       "      <td>15</td>\n",
       "      <td>0</td>\n",
       "      <td>0</td>\n",
       "    </tr>\n",
       "    <tr>\n",
       "      <th>1982</th>\n",
       "      <td>0</td>\n",
       "      <td>0</td>\n",
       "      <td>0</td>\n",
       "      <td>76</td>\n",
       "      <td>2</td>\n",
       "      <td>0</td>\n",
       "      <td>27</td>\n",
       "      <td>4</td>\n",
       "      <td>397</td>\n",
       "      <td>0</td>\n",
       "      <td>...</td>\n",
       "      <td>582</td>\n",
       "      <td>7330</td>\n",
       "      <td>39</td>\n",
       "      <td>0</td>\n",
       "      <td>0</td>\n",
       "      <td>652</td>\n",
       "      <td>2469</td>\n",
       "      <td>21</td>\n",
       "      <td>0</td>\n",
       "      <td>0</td>\n",
       "    </tr>\n",
       "    <tr>\n",
       "      <th>1983</th>\n",
       "      <td>0</td>\n",
       "      <td>0</td>\n",
       "      <td>0</td>\n",
       "      <td>231</td>\n",
       "      <td>5</td>\n",
       "      <td>0</td>\n",
       "      <td>100</td>\n",
       "      <td>9</td>\n",
       "      <td>1496</td>\n",
       "      <td>0</td>\n",
       "      <td>...</td>\n",
       "      <td>1950</td>\n",
       "      <td>24229</td>\n",
       "      <td>153</td>\n",
       "      <td>0</td>\n",
       "      <td>0</td>\n",
       "      <td>3668</td>\n",
       "      <td>15902</td>\n",
       "      <td>101</td>\n",
       "      <td>0</td>\n",
       "      <td>0</td>\n",
       "    </tr>\n",
       "    <tr>\n",
       "      <th>1984</th>\n",
       "      <td>0</td>\n",
       "      <td>0</td>\n",
       "      <td>0</td>\n",
       "      <td>259</td>\n",
       "      <td>2</td>\n",
       "      <td>0</td>\n",
       "      <td>107</td>\n",
       "      <td>10</td>\n",
       "      <td>1306</td>\n",
       "      <td>0</td>\n",
       "      <td>...</td>\n",
       "      <td>2158</td>\n",
       "      <td>26390</td>\n",
       "      <td>185</td>\n",
       "      <td>0</td>\n",
       "      <td>0</td>\n",
       "      <td>4015</td>\n",
       "      <td>17373</td>\n",
       "      <td>135</td>\n",
       "      <td>0</td>\n",
       "      <td>0</td>\n",
       "    </tr>\n",
       "    <tr>\n",
       "      <th>1985</th>\n",
       "      <td>0</td>\n",
       "      <td>0</td>\n",
       "      <td>0</td>\n",
       "      <td>310</td>\n",
       "      <td>2</td>\n",
       "      <td>0</td>\n",
       "      <td>150</td>\n",
       "      <td>12</td>\n",
       "      <td>1820</td>\n",
       "      <td>0</td>\n",
       "      <td>...</td>\n",
       "      <td>2729</td>\n",
       "      <td>34641</td>\n",
       "      <td>217</td>\n",
       "      <td>0</td>\n",
       "      <td>0</td>\n",
       "      <td>4551</td>\n",
       "      <td>18938</td>\n",
       "      <td>147</td>\n",
       "      <td>0</td>\n",
       "      <td>0</td>\n",
       "    </tr>\n",
       "    <tr>\n",
       "      <th>1986</th>\n",
       "      <td>0</td>\n",
       "      <td>0</td>\n",
       "      <td>0</td>\n",
       "      <td>327</td>\n",
       "      <td>2</td>\n",
       "      <td>0</td>\n",
       "      <td>125</td>\n",
       "      <td>6</td>\n",
       "      <td>1695</td>\n",
       "      <td>0</td>\n",
       "      <td>...</td>\n",
       "      <td>3028</td>\n",
       "      <td>36617</td>\n",
       "      <td>226</td>\n",
       "      <td>0</td>\n",
       "      <td>0</td>\n",
       "      <td>5658</td>\n",
       "      <td>22726</td>\n",
       "      <td>165</td>\n",
       "      <td>0</td>\n",
       "      <td>0</td>\n",
       "    </tr>\n",
       "  </tbody>\n",
       "</table>\n",
       "<p>10 rows × 37 columns</p>\n",
       "</div>"
      ],
      "text/plain": [
       "      total_tackles_def  solo_tackles_def  assisted_tackles_def  sacks_def  \\\n",
       "year                                                                         \n",
       "1977                  0                 0                     0          0   \n",
       "1978                  0                 0                     0          0   \n",
       "1979                  0                 0                     0          0   \n",
       "1980                  0                 0                     0          0   \n",
       "1981                  0                 0                     0          0   \n",
       "1982                  0                 0                     0         76   \n",
       "1983                  0                 0                     0        231   \n",
       "1984                  0                 0                     0        259   \n",
       "1985                  0                 0                     0        310   \n",
       "1986                  0                 0                     0        327   \n",
       "\n",
       "      safties_def  passes_defended_def  ints_def  ints_for_tds_def  \\\n",
       "year                                                                 \n",
       "1977            0                    0         5                 0   \n",
       "1978            0                    0         4                 0   \n",
       "1979            0                    0         7                 0   \n",
       "1980            0                    0         6                 0   \n",
       "1981            1                    0        30                 6   \n",
       "1982            2                    0        27                 4   \n",
       "1983            5                    0       100                 9   \n",
       "1984            2                    0       107                10   \n",
       "1985            2                    0       150                12   \n",
       "1986            2                    0       125                 6   \n",
       "\n",
       "      int_yards_def  kicks_blocked_kick  ...  receptions_rec  \\\n",
       "year                                     ...                   \n",
       "1977             39                   0  ...             247   \n",
       "1978             77                   0  ...             270   \n",
       "1979             63                   0  ...             286   \n",
       "1980             67                   0  ...             262   \n",
       "1981            670                   0  ...             510   \n",
       "1982            397                   0  ...             582   \n",
       "1983           1496                   0  ...            1950   \n",
       "1984           1306                   0  ...            2158   \n",
       "1985           1820                   0  ...            2729   \n",
       "1986           1695                   0  ...            3028   \n",
       "\n",
       "      receiving_yards_rec  receiving_tds_rec  first_down_receptions_rec  \\\n",
       "year                                                                      \n",
       "1977                 3361                 18                          0   \n",
       "1978                 3363                 10                          0   \n",
       "1979                 3173                 15                          0   \n",
       "1980                 3388                 18                          0   \n",
       "1981                 7001                 41                          0   \n",
       "1982                 7330                 39                          0   \n",
       "1983                24229                153                          0   \n",
       "1984                26390                185                          0   \n",
       "1985                34641                217                          0   \n",
       "1986                36617                226                          0   \n",
       "\n",
       "      fumbles_rec  rushing_attempts_rush  rushing_yards_rush  \\\n",
       "year                                                           \n",
       "1977            0                    745                3505   \n",
       "1978            0                    740                2954   \n",
       "1979            0                    666                2595   \n",
       "1980            0                    600                2576   \n",
       "1981            0                    614                2404   \n",
       "1982            0                    652                2469   \n",
       "1983            0                   3668               15902   \n",
       "1984            0                   4015               17373   \n",
       "1985            0                   4551               18938   \n",
       "1986            0                   5658               22726   \n",
       "\n",
       "      rushing_tds_rush  rushing_first_downs_rush  fumbles_rush  \n",
       "year                                                            \n",
       "1977                23                         0             0  \n",
       "1978                19                         0             0  \n",
       "1979                21                         0             0  \n",
       "1980                23                         0             0  \n",
       "1981                15                         0             0  \n",
       "1982                21                         0             0  \n",
       "1983               101                         0             0  \n",
       "1984               135                         0             0  \n",
       "1985               147                         0             0  \n",
       "1986               165                         0             0  \n",
       "\n",
       "[10 rows x 37 columns]"
      ]
     },
     "execution_count": 9,
     "metadata": {},
     "output_type": "execute_result"
    }
   ],
   "source": [
    "# We can see many variables with 0's\n",
    "df_var_check_year.head(10)"
   ]
  },
  {
   "cell_type": "code",
   "execution_count": 10,
   "id": "b865d79e",
   "metadata": {},
   "outputs": [
    {
     "name": "stdout",
     "output_type": "stream",
     "text": [
      "total_tackles_def\n"
     ]
    },
    {
     "data": {
      "image/png": "[encoded data removed]",
      "text/plain": [
       "<Figure size 432x288 with 1 Axes>"
      ]
     },
     "metadata": {
      "needs_background": "light"
     },
     "output_type": "display_data"
    },
    {
     "name": "stdout",
     "output_type": "stream",
     "text": [
      " \n",
      "solo_tackles_def\n"
     ]
    },
    {
     "data": {
      "image/png": "[encoded data removed]",
      "text/plain": [
       "<Figure size 432x288 with 1 Axes>"
      ]
     },
     "metadata": {
      "needs_background": "light"
     },
     "output_type": "display_data"
    },
    {
     "name": "stdout",
     "output_type": "stream",
     "text": [
      " \n",
      "assisted_tackles_def\n"
     ]
    },
    {
     "data": {
      "image/png": "[encoded data removed]",
      "text/plain": [
       "<Figure size 432x288 with 1 Axes>"
      ]
     },
     "metadata": {
      "needs_background": "light"
     },
     "output_type": "display_data"
    },
    {
     "name": "stdout",
     "output_type": "stream",
     "text": [
      " \n",
      "sacks_def\n"
     ]
    },
    {
     "data": {
      "image/png": "[encoded data removed]",
      "text/plain": [
       "<Figure size 432x288 with 1 Axes>"
      ]
     },
     "metadata": {
      "needs_background": "light"
     },
     "output_type": "display_data"
    },
    {
     "name": "stdout",
     "output_type": "stream",
     "text": [
      " \n",
      "safties_def\n"
     ]
    },
    {
     "data": {
      "image/png": "[encoded data removed]",
      "text/plain": [
       "<Figure size 432x288 with 1 Axes>"
      ]
     },
     "metadata": {
      "needs_background": "light"
     },
     "output_type": "display_data"
    },
    {
     "name": "stdout",
     "output_type": "stream",
     "text": [
      " \n",
      "passes_defended_def\n"
     ]
    },
    {
     "data": {
      "image/png": "[encoded data removed]",
      "text/plain": [
       "<Figure size 432x288 with 1 Axes>"
      ]
     },
     "metadata": {
      "needs_background": "light"
     },
     "output_type": "display_data"
    },
    {
     "name": "stdout",
     "output_type": "stream",
     "text": [
      " \n",
      "ints_def\n"
     ]
    },
    {
     "data": {
      "image/png": "[encoded data removed]",
      "text/plain": [
       "<Figure size 432x288 with 1 Axes>"
      ]
     },
     "metadata": {
      "needs_background": "light"
     },
     "output_type": "display_data"
    },
    {
     "name": "stdout",
     "output_type": "stream",
     "text": [
      " \n",
      "ints_for_tds_def\n"
     ]
    },
    {
     "data": {
      "image/png": "[encoded data removed]",
      "text/plain": [
       "<Figure size 432x288 with 1 Axes>"
      ]
     },
     "metadata": {
      "needs_background": "light"
     },
     "output_type": "display_data"
    },
    {
     "name": "stdout",
     "output_type": "stream",
     "text": [
      " \n",
      "int_yards_def\n"
     ]
    },
    {
     "data": {
      "image/png": "[encoded data removed]",
      "text/plain": [
       "<Figure size 432x288 with 1 Axes>"
      ]
     },
     "metadata": {
      "needs_background": "light"
     },
     "output_type": "display_data"
    },
    {
     "name": "stdout",
     "output_type": "stream",
     "text": [
      " \n",
      "kicks_blocked_kick\n"
     ]
    },
    {
     "data": {
      "image/png": "[encoded data removed]",
      "text/plain": [
       "<Figure size 432x288 with 1 Axes>"
      ]
     },
     "metadata": {
      "needs_background": "light"
     },
     "output_type": "display_data"
    },
    {
     "name": "stdout",
     "output_type": "stream",
     "text": [
      " \n",
      "fgs_made_kick\n"
     ]
    },
    {
     "data": {
      "image/png": "[encoded data removed]",
      "text/plain": [
       "<Figure size 432x288 with 1 Axes>"
      ]
     },
     "metadata": {
      "needs_background": "light"
     },
     "output_type": "display_data"
    },
    {
     "name": "stdout",
     "output_type": "stream",
     "text": [
      " \n",
      "fgs_attempted_kick\n"
     ]
    },
    {
     "data": {
      "image/png": "[encoded data removed]",
      "text/plain": [
       "<Figure size 432x288 with 1 Axes>"
      ]
     },
     "metadata": {
      "needs_background": "light"
     },
     "output_type": "display_data"
    },
    {
     "name": "stdout",
     "output_type": "stream",
     "text": [
      " \n",
      "extra_points_attempted_kick\n"
     ]
    },
    {
     "data": {
      "image/png": "[encoded data removed]",
      "text/plain": [
       "<Figure size 432x288 with 1 Axes>"
      ]
     },
     "metadata": {
      "needs_background": "light"
     },
     "output_type": "display_data"
    },
    {
     "name": "stdout",
     "output_type": "stream",
     "text": [
      " \n",
      "extra_points_made_kick\n"
     ]
    },
    {
     "data": {
      "image/png": "[encoded data removed]",
      "text/plain": [
       "<Figure size 432x288 with 1 Axes>"
      ]
     },
     "metadata": {
      "needs_background": "light"
     },
     "output_type": "display_data"
    },
    {
     "name": "stdout",
     "output_type": "stream",
     "text": [
      " \n",
      "extra_points_blocked_kick\n"
     ]
    },
    {
     "data": {
      "image/png": "[encoded data removed]",
      "text/plain": [
       "<Figure size 432x288 with 1 Axes>"
      ]
     },
     "metadata": {
      "needs_background": "light"
     },
     "output_type": "display_data"
    },
    {
     "name": "stdout",
     "output_type": "stream",
     "text": [
      " \n",
      "fumbles_lost_fum\n"
     ]
    },
    {
     "data": {
      "image/png": "[encoded data removed]",
      "text/plain": [
       "<Figure size 432x288 with 1 Axes>"
      ]
     },
     "metadata": {
      "needs_background": "light"
     },
     "output_type": "display_data"
    },
    {
     "name": "stdout",
     "output_type": "stream",
     "text": [
      " \n",
      "forced_fumbles_fum\n"
     ]
    },
    {
     "data": {
      "image/png": "[encoded data removed]",
      "text/plain": [
       "<Figure size 432x288 with 1 Axes>"
      ]
     },
     "metadata": {
      "needs_background": "light"
     },
     "output_type": "display_data"
    },
    {
     "name": "stdout",
     "output_type": "stream",
     "text": [
      " \n",
      "own_fumble_return_yards_fum\n"
     ]
    },
    {
     "data": {
      "image/png": "[encoded data removed]",
      "text/plain": [
       "<Figure size 432x288 with 1 Axes>"
      ]
     },
     "metadata": {
      "needs_background": "light"
     },
     "output_type": "display_data"
    },
    {
     "name": "stdout",
     "output_type": "stream",
     "text": [
      " \n",
      "opponent_fumble_return_yards_fum\n"
     ]
    },
    {
     "data": {
      "image/png": "[encoded data removed]",
      "text/plain": [
       "<Figure size 432x288 with 1 Axes>"
      ]
     },
     "metadata": {
      "needs_background": "light"
     },
     "output_type": "display_data"
    },
    {
     "name": "stdout",
     "output_type": "stream",
     "text": [
      " \n",
      "fumble_return_tds_fum\n"
     ]
    },
    {
     "data": {
      "image/png": "[encoded data removed]",
      "text/plain": [
       "<Figure size 432x288 with 1 Axes>"
      ]
     },
     "metadata": {
      "needs_background": "light"
     },
     "output_type": "display_data"
    },
    {
     "name": "stdout",
     "output_type": "stream",
     "text": [
      " \n",
      "passes_attempted_pass\n"
     ]
    },
    {
     "data": {
      "image/png": "[encoded data removed]",
      "text/plain": [
       "<Figure size 432x288 with 1 Axes>"
      ]
     },
     "metadata": {
      "needs_background": "light"
     },
     "output_type": "display_data"
    },
    {
     "name": "stdout",
     "output_type": "stream",
     "text": [
      " \n",
      "passes_completed_pass\n"
     ]
    },
    {
     "data": {
      "image/png": "[encoded data removed]",
      "text/plain": [
       "<Figure size 432x288 with 1 Axes>"
      ]
     },
     "metadata": {
      "needs_background": "light"
     },
     "output_type": "display_data"
    },
    {
     "name": "stdout",
     "output_type": "stream",
     "text": [
      " \n",
      "passing_yards_pass\n"
     ]
    },
    {
     "data": {
      "image/png": "[encoded data removed]",
      "text/plain": [
       "<Figure size 432x288 with 1 Axes>"
      ]
     },
     "metadata": {
      "needs_background": "light"
     },
     "output_type": "display_data"
    },
    {
     "name": "stdout",
     "output_type": "stream",
     "text": [
      " \n",
      "td_passes_pass\n"
     ]
    },
    {
     "data": {
      "image/png": "[encoded data removed]",
      "text/plain": [
       "<Figure size 432x288 with 1 Axes>"
      ]
     },
     "metadata": {
      "needs_background": "light"
     },
     "output_type": "display_data"
    },
    {
     "name": "stdout",
     "output_type": "stream",
     "text": [
      " \n",
      "ints_pass\n"
     ]
    },
    {
     "data": {
      "image/png": "[encoded data removed]",
      "text/plain": [
       "<Figure size 432x288 with 1 Axes>"
      ]
     },
     "metadata": {
      "needs_background": "light"
     },
     "output_type": "display_data"
    },
    {
     "name": "stdout",
     "output_type": "stream",
     "text": [
      " \n",
      "sacks_pass\n"
     ]
    },
    {
     "data": {
      "image/png": "[encoded data removed]",
      "text/plain": [
       "<Figure size 432x288 with 1 Axes>"
      ]
     },
     "metadata": {
      "needs_background": "light"
     },
     "output_type": "display_data"
    },
    {
     "name": "stdout",
     "output_type": "stream",
     "text": [
      " \n",
      "sacked_yards_lost_pass\n"
     ]
    },
    {
     "data": {
      "image/png": "[encoded data removed]",
      "text/plain": [
       "<Figure size 432x288 with 1 Axes>"
      ]
     },
     "metadata": {
      "needs_background": "light"
     },
     "output_type": "display_data"
    },
    {
     "name": "stdout",
     "output_type": "stream",
     "text": [
      " \n",
      "receptions_rec\n"
     ]
    },
    {
     "data": {
      "image/png": "[encoded data removed]",
      "text/plain": [
       "<Figure size 432x288 with 1 Axes>"
      ]
     },
     "metadata": {
      "needs_background": "light"
     },
     "output_type": "display_data"
    },
    {
     "name": "stdout",
     "output_type": "stream",
     "text": [
      " \n",
      "receiving_yards_rec\n"
     ]
    },
    {
     "data": {
      "image/png": "[encoded data removed]",
      "text/plain": [
       "<Figure size 432x288 with 1 Axes>"
      ]
     },
     "metadata": {
      "needs_background": "light"
     },
     "output_type": "display_data"
    },
    {
     "name": "stdout",
     "output_type": "stream",
     "text": [
      " \n",
      "receiving_tds_rec\n"
     ]
    },
    {
     "data": {
      "image/png": "[encoded data removed]",
      "text/plain": [
       "<Figure size 432x288 with 1 Axes>"
      ]
     },
     "metadata": {
      "needs_background": "light"
     },
     "output_type": "display_data"
    },
    {
     "name": "stdout",
     "output_type": "stream",
     "text": [
      " \n",
      "first_down_receptions_rec\n"
     ]
    },
    {
     "data": {
      "image/png": "[encoded data removed]",
      "text/plain": [
       "<Figure size 432x288 with 1 Axes>"
      ]
     },
     "metadata": {
      "needs_background": "light"
     },
     "output_type": "display_data"
    },
    {
     "name": "stdout",
     "output_type": "stream",
     "text": [
      " \n",
      "fumbles_rec\n"
     ]
    },
    {
     "data": {
      "image/png": "[encoded data removed]",
      "text/plain": [
       "<Figure size 432x288 with 1 Axes>"
      ]
     },
     "metadata": {
      "needs_background": "light"
     },
     "output_type": "display_data"
    },
    {
     "name": "stdout",
     "output_type": "stream",
     "text": [
      " \n",
      "rushing_attempts_rush\n"
     ]
    },
    {
     "data": {
      "image/png": "[encoded data removed]",
      "text/plain": [
       "<Figure size 432x288 with 1 Axes>"
      ]
     },
     "metadata": {
      "needs_background": "light"
     },
     "output_type": "display_data"
    },
    {
     "name": "stdout",
     "output_type": "stream",
     "text": [
      " \n",
      "rushing_yards_rush\n"
     ]
    },
    {
     "data": {
      "image/png": "[encoded data removed]",
      "text/plain": [
       "<Figure size 432x288 with 1 Axes>"
      ]
     },
     "metadata": {
      "needs_background": "light"
     },
     "output_type": "display_data"
    },
    {
     "name": "stdout",
     "output_type": "stream",
     "text": [
      " \n",
      "rushing_tds_rush\n"
     ]
    },
    {
     "data": {
      "image/png": "[encoded data removed]",
      "text/plain": [
       "<Figure size 432x288 with 1 Axes>"
      ]
     },
     "metadata": {
      "needs_background": "light"
     },
     "output_type": "display_data"
    },
    {
     "name": "stdout",
     "output_type": "stream",
     "text": [
      " \n",
      "rushing_first_downs_rush\n"
     ]
    },
    {
     "data": {
      "image/png": "[encoded data removed]",
      "text/plain": [
       "<Figure size 432x288 with 1 Axes>"
      ]
     },
     "metadata": {
      "needs_background": "light"
     },
     "output_type": "display_data"
    },
    {
     "name": "stdout",
     "output_type": "stream",
     "text": [
      " \n",
      "fumbles_rush\n"
     ]
    },
    {
     "data": {
      "image/png": "[encoded data removed]",
      "text/plain": [
       "<Figure size 432x288 with 1 Axes>"
      ]
     },
     "metadata": {
      "needs_background": "light"
     },
     "output_type": "display_data"
    },
    {
     "name": "stdout",
     "output_type": "stream",
     "text": [
      " \n"
     ]
    }
   ],
   "source": [
    "# Plot variables to check for empty years\n",
    "for var in df_var_check_year.columns:\n",
    "    plt.figure()\n",
    "    print(var)\n",
    "    plt.bar(df_var_check_year.index, height = df_var_check_year[var])\n",
    "    plt.show()\n",
    "    plt.close()\n",
    "    print(\" \")"
   ]
  },
  {
   "cell_type": "code",
   "execution_count": null,
   "id": "6b6a20fa",
   "metadata": {},
   "outputs": [],
   "source": []
  }
 ],
 "metadata": {
  "kernelspec": {
   "display_name": "mlenv",
   "language": "python",
   "name": "mlenv"
  },
  "language_info": {
   "codemirror_mode": {
    "name": "ipython",
    "version": 3
   },
   "file_extension": ".py",
   "mimetype": "text/x-python",
   "name": "python",
   "nbconvert_exporter": "python",
   "pygments_lexer": "ipython3",
   "version": "3.7.11"
  }
 },
 "nbformat": 4,
 "nbformat_minor": 5
}
